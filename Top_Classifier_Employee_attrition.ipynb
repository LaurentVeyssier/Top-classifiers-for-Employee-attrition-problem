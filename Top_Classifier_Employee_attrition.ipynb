{
 "cells": [
  {
   "cell_type": "code",
   "execution_count": 411,
   "id": "5960f8ef",
   "metadata": {},
   "outputs": [],
   "source": [
    "import pandas as pd\n",
    "import numpy as np\n",
    "\n",
    "from sklearn.model_selection import train_test_split\n",
    "from sklearn.metrics import confusion_matrix, precision_score,classification_report, accuracy_score\n",
    "\n",
    "import seaborn as sns\n",
    "from matplotlib import pyplot as plt"
   ]
  },
  {
   "cell_type": "markdown",
   "id": "f4193b47",
   "metadata": {},
   "source": [
    "# LOAD AND EXPLORE THE DATASET\n",
    "- See KAGGLE dataset here: https://www.kaggle.com/liujiaqi/hr-comma-sepcsv\n",
    "- This dataset provides 15.000 individual employee records with various information from which to predict whether the employee might quit or not.\n",
    "- The dataset provides information caracterizing the history, work environment and professional development of the employees such as salary level, workload, recent promotions...In total there are 7 features provided for each employee_id\n",
    "- In addition to these features, each record indicates whether the employee left the company or not"
   ]
  },
  {
   "cell_type": "code",
   "execution_count": 296,
   "id": "ec44f3dc",
   "metadata": {},
   "outputs": [
    {
     "data": {
      "text/html": [
       "<div>\n",
       "<style scoped>\n",
       "    .dataframe tbody tr th:only-of-type {\n",
       "        vertical-align: middle;\n",
       "    }\n",
       "\n",
       "    .dataframe tbody tr th {\n",
       "        vertical-align: top;\n",
       "    }\n",
       "\n",
       "    .dataframe thead th {\n",
       "        text-align: right;\n",
       "    }\n",
       "</style>\n",
       "<table border=\"1\" class=\"dataframe\">\n",
       "  <thead>\n",
       "    <tr style=\"text-align: right;\">\n",
       "      <th></th>\n",
       "      <th>employee_id</th>\n",
       "      <th>number_project</th>\n",
       "      <th>average_montly_hours</th>\n",
       "      <th>time_spend_company</th>\n",
       "      <th>Work_accident</th>\n",
       "      <th>left</th>\n",
       "      <th>promotion_last_5years</th>\n",
       "      <th>department</th>\n",
       "      <th>salary</th>\n",
       "    </tr>\n",
       "  </thead>\n",
       "  <tbody>\n",
       "    <tr>\n",
       "      <th>0</th>\n",
       "      <td>1003</td>\n",
       "      <td>2</td>\n",
       "      <td>157</td>\n",
       "      <td>3</td>\n",
       "      <td>0</td>\n",
       "      <td>1</td>\n",
       "      <td>0</td>\n",
       "      <td>sales</td>\n",
       "      <td>low</td>\n",
       "    </tr>\n",
       "    <tr>\n",
       "      <th>1</th>\n",
       "      <td>1005</td>\n",
       "      <td>5</td>\n",
       "      <td>262</td>\n",
       "      <td>6</td>\n",
       "      <td>0</td>\n",
       "      <td>1</td>\n",
       "      <td>0</td>\n",
       "      <td>sales</td>\n",
       "      <td>medium</td>\n",
       "    </tr>\n",
       "    <tr>\n",
       "      <th>2</th>\n",
       "      <td>1486</td>\n",
       "      <td>7</td>\n",
       "      <td>272</td>\n",
       "      <td>4</td>\n",
       "      <td>0</td>\n",
       "      <td>1</td>\n",
       "      <td>0</td>\n",
       "      <td>sales</td>\n",
       "      <td>medium</td>\n",
       "    </tr>\n",
       "    <tr>\n",
       "      <th>3</th>\n",
       "      <td>1038</td>\n",
       "      <td>5</td>\n",
       "      <td>223</td>\n",
       "      <td>5</td>\n",
       "      <td>0</td>\n",
       "      <td>1</td>\n",
       "      <td>0</td>\n",
       "      <td>sales</td>\n",
       "      <td>low</td>\n",
       "    </tr>\n",
       "    <tr>\n",
       "      <th>4</th>\n",
       "      <td>1057</td>\n",
       "      <td>2</td>\n",
       "      <td>159</td>\n",
       "      <td>3</td>\n",
       "      <td>0</td>\n",
       "      <td>1</td>\n",
       "      <td>0</td>\n",
       "      <td>sales</td>\n",
       "      <td>low</td>\n",
       "    </tr>\n",
       "    <tr>\n",
       "      <th>...</th>\n",
       "      <td>...</td>\n",
       "      <td>...</td>\n",
       "      <td>...</td>\n",
       "      <td>...</td>\n",
       "      <td>...</td>\n",
       "      <td>...</td>\n",
       "      <td>...</td>\n",
       "      <td>...</td>\n",
       "      <td>...</td>\n",
       "    </tr>\n",
       "    <tr>\n",
       "      <th>14994</th>\n",
       "      <td>87670</td>\n",
       "      <td>2</td>\n",
       "      <td>151</td>\n",
       "      <td>3</td>\n",
       "      <td>0</td>\n",
       "      <td>1</td>\n",
       "      <td>0</td>\n",
       "      <td>support</td>\n",
       "      <td>low</td>\n",
       "    </tr>\n",
       "    <tr>\n",
       "      <th>14995</th>\n",
       "      <td>87673</td>\n",
       "      <td>2</td>\n",
       "      <td>160</td>\n",
       "      <td>3</td>\n",
       "      <td>0</td>\n",
       "      <td>1</td>\n",
       "      <td>0</td>\n",
       "      <td>support</td>\n",
       "      <td>low</td>\n",
       "    </tr>\n",
       "    <tr>\n",
       "      <th>14996</th>\n",
       "      <td>87679</td>\n",
       "      <td>2</td>\n",
       "      <td>143</td>\n",
       "      <td>3</td>\n",
       "      <td>0</td>\n",
       "      <td>1</td>\n",
       "      <td>0</td>\n",
       "      <td>support</td>\n",
       "      <td>low</td>\n",
       "    </tr>\n",
       "    <tr>\n",
       "      <th>14997</th>\n",
       "      <td>87681</td>\n",
       "      <td>6</td>\n",
       "      <td>280</td>\n",
       "      <td>4</td>\n",
       "      <td>0</td>\n",
       "      <td>1</td>\n",
       "      <td>0</td>\n",
       "      <td>support</td>\n",
       "      <td>low</td>\n",
       "    </tr>\n",
       "    <tr>\n",
       "      <th>14998</th>\n",
       "      <td>87684</td>\n",
       "      <td>2</td>\n",
       "      <td>158</td>\n",
       "      <td>3</td>\n",
       "      <td>0</td>\n",
       "      <td>1</td>\n",
       "      <td>0</td>\n",
       "      <td>support</td>\n",
       "      <td>low</td>\n",
       "    </tr>\n",
       "  </tbody>\n",
       "</table>\n",
       "<p>14999 rows × 9 columns</p>\n",
       "</div>"
      ],
      "text/plain": [
       "       employee_id  number_project  average_montly_hours  time_spend_company  \\\n",
       "0             1003               2                   157                   3   \n",
       "1             1005               5                   262                   6   \n",
       "2             1486               7                   272                   4   \n",
       "3             1038               5                   223                   5   \n",
       "4             1057               2                   159                   3   \n",
       "...            ...             ...                   ...                 ...   \n",
       "14994        87670               2                   151                   3   \n",
       "14995        87673               2                   160                   3   \n",
       "14996        87679               2                   143                   3   \n",
       "14997        87681               6                   280                   4   \n",
       "14998        87684               2                   158                   3   \n",
       "\n",
       "       Work_accident  left  promotion_last_5years department  salary  \n",
       "0                  0     1                      0      sales     low  \n",
       "1                  0     1                      0      sales  medium  \n",
       "2                  0     1                      0      sales  medium  \n",
       "3                  0     1                      0      sales     low  \n",
       "4                  0     1                      0      sales     low  \n",
       "...              ...   ...                    ...        ...     ...  \n",
       "14994              0     1                      0    support     low  \n",
       "14995              0     1                      0    support     low  \n",
       "14996              0     1                      0    support     low  \n",
       "14997              0     1                      0    support     low  \n",
       "14998              0     1                      0    support     low  \n",
       "\n",
       "[14999 rows x 9 columns]"
      ]
     },
     "execution_count": 296,
     "metadata": {},
     "output_type": "execute_result"
    }
   ],
   "source": [
    "hr_df = pd.read_csv(r'../datascienceforbusiness-master/hr_data.csv') \n",
    "hr_df"
   ]
  },
  {
   "cell_type": "markdown",
   "id": "a513d133",
   "metadata": {},
   "source": [
    "- the dataset is complete without missing data"
   ]
  },
  {
   "cell_type": "code",
   "execution_count": 297,
   "id": "165703b0",
   "metadata": {},
   "outputs": [
    {
     "name": "stdout",
     "output_type": "stream",
     "text": [
      "<class 'pandas.core.frame.DataFrame'>\n",
      "RangeIndex: 14999 entries, 0 to 14998\n",
      "Data columns (total 9 columns):\n",
      " #   Column                 Non-Null Count  Dtype \n",
      "---  ------                 --------------  ----- \n",
      " 0   employee_id            14999 non-null  int64 \n",
      " 1   number_project         14999 non-null  int64 \n",
      " 2   average_montly_hours   14999 non-null  int64 \n",
      " 3   time_spend_company     14999 non-null  int64 \n",
      " 4   Work_accident          14999 non-null  int64 \n",
      " 5   left                   14999 non-null  int64 \n",
      " 6   promotion_last_5years  14999 non-null  int64 \n",
      " 7   department             14999 non-null  object\n",
      " 8   salary                 14999 non-null  object\n",
      "dtypes: int64(7), object(2)\n",
      "memory usage: 1.0+ MB\n"
     ]
    }
   ],
   "source": [
    "hr_df.info()"
   ]
  },
  {
   "cell_type": "markdown",
   "id": "c9f30400",
   "metadata": {},
   "source": [
    "- Two features are categorical, the others being numerical"
   ]
  },
  {
   "cell_type": "code",
   "execution_count": 299,
   "id": "0a4b643e",
   "metadata": {},
   "outputs": [
    {
     "data": {
      "text/plain": [
       "Index(['department', 'salary'], dtype='object')"
      ]
     },
     "execution_count": 299,
     "metadata": {},
     "output_type": "execute_result"
    }
   ],
   "source": [
    "categorical_columns = hr_df.select_dtypes(include=\"object\")\n",
    "categorical_columns.columns"
   ]
  },
  {
   "cell_type": "code",
   "execution_count": 377,
   "id": "46d03102",
   "metadata": {},
   "outputs": [
    {
     "data": {
      "text/html": [
       "<svg  width=\"330\" height=\"55\"><rect x=\"0\" y=\"0\" width=\"55\" height=\"55\" style=\"fill:#c5e5cd;stroke-width:2;stroke:rgb(255,255,255)\"/><rect x=\"55\" y=\"0\" width=\"55\" height=\"55\" style=\"fill:#9ec696;stroke-width:2;stroke:rgb(255,255,255)\"/><rect x=\"110\" y=\"0\" width=\"55\" height=\"55\" style=\"fill:#84a063;stroke-width:2;stroke:rgb(255,255,255)\"/><rect x=\"165\" y=\"0\" width=\"55\" height=\"55\" style=\"fill:#70763d;stroke-width:2;stroke:rgb(255,255,255)\"/><rect x=\"220\" y=\"0\" width=\"55\" height=\"55\" style=\"fill:#594a23;stroke-width:2;stroke:rgb(255,255,255)\"/><rect x=\"275\" y=\"0\" width=\"55\" height=\"55\" style=\"fill:#362212;stroke-width:2;stroke:rgb(255,255,255)\"/></svg>"
      ],
      "text/plain": [
       "[[0.7742129266850253, 0.898618163798657, 0.8048335114656932],\n",
       " [0.6201831589020503, 0.7778209720909514, 0.5894038914248354],\n",
       " [0.5169654813082414, 0.6283863323666158, 0.38899728055126487],\n",
       " [0.43948012681696463, 0.46331587335022417, 0.23792755413957536],\n",
       " [0.3477339317010577, 0.28972843982521357, 0.13578256597646202],\n",
       " [0.21126132656158225, 0.13196527359152715, 0.07074286239714389]]"
      ]
     },
     "execution_count": 377,
     "metadata": {},
     "output_type": "execute_result"
    }
   ],
   "source": [
    "color_list = sns.cubehelix_palette(start=1, n_colors=6)\n",
    "color_list"
   ]
  },
  {
   "cell_type": "code",
   "execution_count": 382,
   "id": "ffcf09da",
   "metadata": {},
   "outputs": [],
   "source": [
    "def display_kdeplot(df, feature_1, feature_2, color, j):\n",
    "    cmap = color\n",
    "    color_list = sns.cubehelix_palette(start=s[j], n_colors=6)\n",
    "    sns.kdeplot(x= feature_1 , y= feature_2, data=df, cmap=cmap, shade=True, cut=5, ax=axes[j])\n",
    "    axes[j].set( title = f'{feature_2}')\n",
    "    axes[j].set_facecolor(color_list[0])"
   ]
  },
  {
   "cell_type": "code",
   "execution_count": 380,
   "id": "7371f892",
   "metadata": {},
   "outputs": [
    {
     "data": {
      "image/png": "[encoded data removed]",
      "text/plain": [
       "<Figure size 2160x432 with 5 Axes>"
      ]
     },
     "metadata": {},
     "output_type": "display_data"
    }
   ],
   "source": [
    "numerical_features = ['number_project', 'average_montly_hours', 'time_spend_company', 'Work_accident', 'promotion_last_5years']\n",
    "s = np.linspace(0, 3, 5)\n",
    "\n",
    "# Plotting the KDEplots\n",
    "f, axes = plt.subplots(1, 5, figsize=(30, 6), sharex=False, sharey=False)\n",
    "\n",
    "for index, feature in enumerate(numerical_features):\n",
    "    # Defining our colormap scheme\n",
    "    cmap = sns.cubehelix_palette(start=s[index], light=1, gamma=1.2, as_cmap=True)\n",
    "    # Generate and plot\n",
    "    display_kdeplot(hr_df, 'left', feature, cmap, index)\n",
    "\n",
    "f.tight_layout()"
   ]
  },
  {
   "cell_type": "markdown",
   "id": "22d99531",
   "metadata": {},
   "source": [
    "### Observations\n",
    "- We observe that leavers thend to have either high working hours our low working hours\n",
    "- Similarly, leavers have either one project or rather a high number of them\n",
    "- Most leavers have had no promotion in the last 5 years\n",
    "- Leavers tend not to have had accident\n",
    "- Leavers tend to have higher length of service with the company"
   ]
  },
  {
   "cell_type": "markdown",
   "id": "f4000490",
   "metadata": {},
   "source": [
    "### Let's add a couple more features coming from the employee satisfaction survey\n",
    "- these 2 features provide information on the employees' motivation and performance assessement"
   ]
  },
  {
   "cell_type": "code",
   "execution_count": 10,
   "id": "a8d8105a",
   "metadata": {},
   "outputs": [
    {
     "data": {
      "text/html": [
       "<div>\n",
       "<style scoped>\n",
       "    .dataframe tbody tr th:only-of-type {\n",
       "        vertical-align: middle;\n",
       "    }\n",
       "\n",
       "    .dataframe tbody tr th {\n",
       "        vertical-align: top;\n",
       "    }\n",
       "\n",
       "    .dataframe thead th {\n",
       "        text-align: right;\n",
       "    }\n",
       "</style>\n",
       "<table border=\"1\" class=\"dataframe\">\n",
       "  <thead>\n",
       "    <tr style=\"text-align: right;\">\n",
       "      <th></th>\n",
       "      <th>EMPLOYEE #</th>\n",
       "      <th>satisfaction_level</th>\n",
       "      <th>last_evaluation</th>\n",
       "    </tr>\n",
       "  </thead>\n",
       "  <tbody>\n",
       "    <tr>\n",
       "      <th>0</th>\n",
       "      <td>1003</td>\n",
       "      <td>0.38</td>\n",
       "      <td>0.53</td>\n",
       "    </tr>\n",
       "    <tr>\n",
       "      <th>1</th>\n",
       "      <td>1005</td>\n",
       "      <td>0.80</td>\n",
       "      <td>0.86</td>\n",
       "    </tr>\n",
       "    <tr>\n",
       "      <th>2</th>\n",
       "      <td>1486</td>\n",
       "      <td>0.11</td>\n",
       "      <td>0.88</td>\n",
       "    </tr>\n",
       "    <tr>\n",
       "      <th>3</th>\n",
       "      <td>1038</td>\n",
       "      <td>0.72</td>\n",
       "      <td>0.87</td>\n",
       "    </tr>\n",
       "    <tr>\n",
       "      <th>4</th>\n",
       "      <td>1057</td>\n",
       "      <td>0.37</td>\n",
       "      <td>0.52</td>\n",
       "    </tr>\n",
       "  </tbody>\n",
       "</table>\n",
       "</div>"
      ],
      "text/plain": [
       "   EMPLOYEE #  satisfaction_level  last_evaluation\n",
       "0        1003                0.38             0.53\n",
       "1        1005                0.80             0.86\n",
       "2        1486                0.11             0.88\n",
       "3        1038                0.72             0.87\n",
       "4        1057                0.37             0.52"
      ]
     },
     "execution_count": 10,
     "metadata": {},
     "output_type": "execute_result"
    }
   ],
   "source": [
    "dirname = r'../datascienceforbusiness-master/'\n",
    "emp_satis_eval = pd.read_excel (dirname+'employee_satisfaction_evaluation.xlsx') \n",
    "emp_satis_eval.head()"
   ]
  },
  {
   "cell_type": "markdown",
   "id": "ba40e099",
   "metadata": {},
   "source": [
    "- Let's join these 2 new features with the main dataset using the employee id key (unique identifier)\n",
    "- we then drop the employee id number which will not be useful for our modelisation and classification task"
   ]
  },
  {
   "cell_type": "code",
   "execution_count": 27,
   "id": "7d926833",
   "metadata": {},
   "outputs": [
    {
     "data": {
      "text/html": [
       "<div>\n",
       "<style scoped>\n",
       "    .dataframe tbody tr th:only-of-type {\n",
       "        vertical-align: middle;\n",
       "    }\n",
       "\n",
       "    .dataframe tbody tr th {\n",
       "        vertical-align: top;\n",
       "    }\n",
       "\n",
       "    .dataframe thead th {\n",
       "        text-align: right;\n",
       "    }\n",
       "</style>\n",
       "<table border=\"1\" class=\"dataframe\">\n",
       "  <thead>\n",
       "    <tr style=\"text-align: right;\">\n",
       "      <th></th>\n",
       "      <th>number_project</th>\n",
       "      <th>average_montly_hours</th>\n",
       "      <th>time_spend_company</th>\n",
       "      <th>Work_accident</th>\n",
       "      <th>left</th>\n",
       "      <th>promotion_last_5years</th>\n",
       "      <th>department</th>\n",
       "      <th>salary</th>\n",
       "      <th>satisfaction_level</th>\n",
       "      <th>last_evaluation</th>\n",
       "    </tr>\n",
       "  </thead>\n",
       "  <tbody>\n",
       "    <tr>\n",
       "      <th>0</th>\n",
       "      <td>2</td>\n",
       "      <td>157</td>\n",
       "      <td>3</td>\n",
       "      <td>0</td>\n",
       "      <td>1</td>\n",
       "      <td>0</td>\n",
       "      <td>sales</td>\n",
       "      <td>low</td>\n",
       "      <td>0.38</td>\n",
       "      <td>0.53</td>\n",
       "    </tr>\n",
       "    <tr>\n",
       "      <th>1</th>\n",
       "      <td>5</td>\n",
       "      <td>262</td>\n",
       "      <td>6</td>\n",
       "      <td>0</td>\n",
       "      <td>1</td>\n",
       "      <td>0</td>\n",
       "      <td>sales</td>\n",
       "      <td>medium</td>\n",
       "      <td>0.80</td>\n",
       "      <td>0.86</td>\n",
       "    </tr>\n",
       "    <tr>\n",
       "      <th>2</th>\n",
       "      <td>7</td>\n",
       "      <td>272</td>\n",
       "      <td>4</td>\n",
       "      <td>0</td>\n",
       "      <td>1</td>\n",
       "      <td>0</td>\n",
       "      <td>sales</td>\n",
       "      <td>medium</td>\n",
       "      <td>0.11</td>\n",
       "      <td>0.88</td>\n",
       "    </tr>\n",
       "    <tr>\n",
       "      <th>3</th>\n",
       "      <td>5</td>\n",
       "      <td>223</td>\n",
       "      <td>5</td>\n",
       "      <td>0</td>\n",
       "      <td>1</td>\n",
       "      <td>0</td>\n",
       "      <td>sales</td>\n",
       "      <td>low</td>\n",
       "      <td>0.72</td>\n",
       "      <td>0.87</td>\n",
       "    </tr>\n",
       "    <tr>\n",
       "      <th>4</th>\n",
       "      <td>2</td>\n",
       "      <td>159</td>\n",
       "      <td>3</td>\n",
       "      <td>0</td>\n",
       "      <td>1</td>\n",
       "      <td>0</td>\n",
       "      <td>sales</td>\n",
       "      <td>low</td>\n",
       "      <td>0.37</td>\n",
       "      <td>0.52</td>\n",
       "    </tr>\n",
       "    <tr>\n",
       "      <th>...</th>\n",
       "      <td>...</td>\n",
       "      <td>...</td>\n",
       "      <td>...</td>\n",
       "      <td>...</td>\n",
       "      <td>...</td>\n",
       "      <td>...</td>\n",
       "      <td>...</td>\n",
       "      <td>...</td>\n",
       "      <td>...</td>\n",
       "      <td>...</td>\n",
       "    </tr>\n",
       "    <tr>\n",
       "      <th>14994</th>\n",
       "      <td>2</td>\n",
       "      <td>151</td>\n",
       "      <td>3</td>\n",
       "      <td>0</td>\n",
       "      <td>1</td>\n",
       "      <td>0</td>\n",
       "      <td>support</td>\n",
       "      <td>low</td>\n",
       "      <td>0.40</td>\n",
       "      <td>0.57</td>\n",
       "    </tr>\n",
       "    <tr>\n",
       "      <th>14995</th>\n",
       "      <td>2</td>\n",
       "      <td>160</td>\n",
       "      <td>3</td>\n",
       "      <td>0</td>\n",
       "      <td>1</td>\n",
       "      <td>0</td>\n",
       "      <td>support</td>\n",
       "      <td>low</td>\n",
       "      <td>0.37</td>\n",
       "      <td>0.48</td>\n",
       "    </tr>\n",
       "    <tr>\n",
       "      <th>14996</th>\n",
       "      <td>2</td>\n",
       "      <td>143</td>\n",
       "      <td>3</td>\n",
       "      <td>0</td>\n",
       "      <td>1</td>\n",
       "      <td>0</td>\n",
       "      <td>support</td>\n",
       "      <td>low</td>\n",
       "      <td>0.37</td>\n",
       "      <td>0.53</td>\n",
       "    </tr>\n",
       "    <tr>\n",
       "      <th>14997</th>\n",
       "      <td>6</td>\n",
       "      <td>280</td>\n",
       "      <td>4</td>\n",
       "      <td>0</td>\n",
       "      <td>1</td>\n",
       "      <td>0</td>\n",
       "      <td>support</td>\n",
       "      <td>low</td>\n",
       "      <td>0.11</td>\n",
       "      <td>0.96</td>\n",
       "    </tr>\n",
       "    <tr>\n",
       "      <th>14998</th>\n",
       "      <td>2</td>\n",
       "      <td>158</td>\n",
       "      <td>3</td>\n",
       "      <td>0</td>\n",
       "      <td>1</td>\n",
       "      <td>0</td>\n",
       "      <td>support</td>\n",
       "      <td>low</td>\n",
       "      <td>0.37</td>\n",
       "      <td>0.52</td>\n",
       "    </tr>\n",
       "  </tbody>\n",
       "</table>\n",
       "<p>14999 rows × 10 columns</p>\n",
       "</div>"
      ],
      "text/plain": [
       "       number_project  average_montly_hours  time_spend_company  \\\n",
       "0                   2                   157                   3   \n",
       "1                   5                   262                   6   \n",
       "2                   7                   272                   4   \n",
       "3                   5                   223                   5   \n",
       "4                   2                   159                   3   \n",
       "...               ...                   ...                 ...   \n",
       "14994               2                   151                   3   \n",
       "14995               2                   160                   3   \n",
       "14996               2                   143                   3   \n",
       "14997               6                   280                   4   \n",
       "14998               2                   158                   3   \n",
       "\n",
       "       Work_accident  left  promotion_last_5years department  salary  \\\n",
       "0                  0     1                      0      sales     low   \n",
       "1                  0     1                      0      sales  medium   \n",
       "2                  0     1                      0      sales  medium   \n",
       "3                  0     1                      0      sales     low   \n",
       "4                  0     1                      0      sales     low   \n",
       "...              ...   ...                    ...        ...     ...   \n",
       "14994              0     1                      0    support     low   \n",
       "14995              0     1                      0    support     low   \n",
       "14996              0     1                      0    support     low   \n",
       "14997              0     1                      0    support     low   \n",
       "14998              0     1                      0    support     low   \n",
       "\n",
       "       satisfaction_level  last_evaluation  \n",
       "0                    0.38             0.53  \n",
       "1                    0.80             0.86  \n",
       "2                    0.11             0.88  \n",
       "3                    0.72             0.87  \n",
       "4                    0.37             0.52  \n",
       "...                   ...              ...  \n",
       "14994                0.40             0.57  \n",
       "14995                0.37             0.48  \n",
       "14996                0.37             0.53  \n",
       "14997                0.11             0.96  \n",
       "14998                0.37             0.52  \n",
       "\n",
       "[14999 rows x 10 columns]"
      ]
     },
     "execution_count": 27,
     "metadata": {},
     "output_type": "execute_result"
    }
   ],
   "source": [
    "df = hr_df.set_index('employee_id').join(emp_satis_eval.set_index('EMPLOYEE #'))\n",
    "df.reset_index(inplace=True)\n",
    "df.drop(['employee_id'], axis=1, inplace=True)\n",
    "df"
   ]
  },
  {
   "cell_type": "markdown",
   "id": "53cbbcf4",
   "metadata": {},
   "source": [
    "- not all evaluations were available and there are a few employee records missing data"
   ]
  },
  {
   "cell_type": "code",
   "execution_count": 28,
   "id": "a0bd8ebe",
   "metadata": {},
   "outputs": [
    {
     "data": {
      "text/plain": [
       "number_project            0\n",
       "average_montly_hours      0\n",
       "time_spend_company        0\n",
       "Work_accident             0\n",
       "left                      0\n",
       "promotion_last_5years     0\n",
       "department                0\n",
       "salary                    0\n",
       "satisfaction_level       27\n",
       "last_evaluation          27\n",
       "dtype: int64"
      ]
     },
     "execution_count": 28,
     "metadata": {},
     "output_type": "execute_result"
    }
   ],
   "source": [
    "df.isnull().sum()"
   ]
  },
  {
   "cell_type": "markdown",
   "id": "4f886c38",
   "metadata": {},
   "source": [
    "- we will fill the missing data with the average. This seems reasonable given the limited missing data sample.\n",
    "- we will fill missing satisfaction level with the employees' average satisfaction, same with the evaluation score"
   ]
  },
  {
   "cell_type": "code",
   "execution_count": 29,
   "id": "6fc0440b",
   "metadata": {},
   "outputs": [
    {
     "data": {
      "text/html": [
       "<div>\n",
       "<style scoped>\n",
       "    .dataframe tbody tr th:only-of-type {\n",
       "        vertical-align: middle;\n",
       "    }\n",
       "\n",
       "    .dataframe tbody tr th {\n",
       "        vertical-align: top;\n",
       "    }\n",
       "\n",
       "    .dataframe thead th {\n",
       "        text-align: right;\n",
       "    }\n",
       "</style>\n",
       "<table border=\"1\" class=\"dataframe\">\n",
       "  <thead>\n",
       "    <tr style=\"text-align: right;\">\n",
       "      <th></th>\n",
       "      <th>number_project</th>\n",
       "      <th>average_montly_hours</th>\n",
       "      <th>time_spend_company</th>\n",
       "      <th>Work_accident</th>\n",
       "      <th>left</th>\n",
       "      <th>promotion_last_5years</th>\n",
       "      <th>satisfaction_level</th>\n",
       "      <th>last_evaluation</th>\n",
       "    </tr>\n",
       "  </thead>\n",
       "  <tbody>\n",
       "    <tr>\n",
       "      <th>count</th>\n",
       "      <td>14999.000000</td>\n",
       "      <td>14999.000000</td>\n",
       "      <td>14999.000000</td>\n",
       "      <td>14999.000000</td>\n",
       "      <td>14999.000000</td>\n",
       "      <td>14999.000000</td>\n",
       "      <td>14972.000000</td>\n",
       "      <td>14972.000000</td>\n",
       "    </tr>\n",
       "    <tr>\n",
       "      <th>mean</th>\n",
       "      <td>3.803054</td>\n",
       "      <td>201.050337</td>\n",
       "      <td>3.498233</td>\n",
       "      <td>0.144610</td>\n",
       "      <td>0.238083</td>\n",
       "      <td>0.021268</td>\n",
       "      <td>0.612830</td>\n",
       "      <td>0.716125</td>\n",
       "    </tr>\n",
       "    <tr>\n",
       "      <th>std</th>\n",
       "      <td>1.232592</td>\n",
       "      <td>49.943099</td>\n",
       "      <td>1.460136</td>\n",
       "      <td>0.351719</td>\n",
       "      <td>0.425924</td>\n",
       "      <td>0.144281</td>\n",
       "      <td>0.248714</td>\n",
       "      <td>0.171138</td>\n",
       "    </tr>\n",
       "    <tr>\n",
       "      <th>min</th>\n",
       "      <td>2.000000</td>\n",
       "      <td>96.000000</td>\n",
       "      <td>2.000000</td>\n",
       "      <td>0.000000</td>\n",
       "      <td>0.000000</td>\n",
       "      <td>0.000000</td>\n",
       "      <td>0.090000</td>\n",
       "      <td>0.360000</td>\n",
       "    </tr>\n",
       "    <tr>\n",
       "      <th>25%</th>\n",
       "      <td>3.000000</td>\n",
       "      <td>156.000000</td>\n",
       "      <td>3.000000</td>\n",
       "      <td>0.000000</td>\n",
       "      <td>0.000000</td>\n",
       "      <td>0.000000</td>\n",
       "      <td>0.440000</td>\n",
       "      <td>0.560000</td>\n",
       "    </tr>\n",
       "    <tr>\n",
       "      <th>50%</th>\n",
       "      <td>4.000000</td>\n",
       "      <td>200.000000</td>\n",
       "      <td>3.000000</td>\n",
       "      <td>0.000000</td>\n",
       "      <td>0.000000</td>\n",
       "      <td>0.000000</td>\n",
       "      <td>0.640000</td>\n",
       "      <td>0.720000</td>\n",
       "    </tr>\n",
       "    <tr>\n",
       "      <th>75%</th>\n",
       "      <td>5.000000</td>\n",
       "      <td>245.000000</td>\n",
       "      <td>4.000000</td>\n",
       "      <td>0.000000</td>\n",
       "      <td>0.000000</td>\n",
       "      <td>0.000000</td>\n",
       "      <td>0.820000</td>\n",
       "      <td>0.870000</td>\n",
       "    </tr>\n",
       "    <tr>\n",
       "      <th>max</th>\n",
       "      <td>7.000000</td>\n",
       "      <td>310.000000</td>\n",
       "      <td>10.000000</td>\n",
       "      <td>1.000000</td>\n",
       "      <td>1.000000</td>\n",
       "      <td>1.000000</td>\n",
       "      <td>1.000000</td>\n",
       "      <td>1.000000</td>\n",
       "    </tr>\n",
       "  </tbody>\n",
       "</table>\n",
       "</div>"
      ],
      "text/plain": [
       "       number_project  average_montly_hours  time_spend_company  \\\n",
       "count    14999.000000          14999.000000        14999.000000   \n",
       "mean         3.803054            201.050337            3.498233   \n",
       "std          1.232592             49.943099            1.460136   \n",
       "min          2.000000             96.000000            2.000000   \n",
       "25%          3.000000            156.000000            3.000000   \n",
       "50%          4.000000            200.000000            3.000000   \n",
       "75%          5.000000            245.000000            4.000000   \n",
       "max          7.000000            310.000000           10.000000   \n",
       "\n",
       "       Work_accident          left  promotion_last_5years  satisfaction_level  \\\n",
       "count   14999.000000  14999.000000           14999.000000        14972.000000   \n",
       "mean        0.144610      0.238083               0.021268            0.612830   \n",
       "std         0.351719      0.425924               0.144281            0.248714   \n",
       "min         0.000000      0.000000               0.000000            0.090000   \n",
       "25%         0.000000      0.000000               0.000000            0.440000   \n",
       "50%         0.000000      0.000000               0.000000            0.640000   \n",
       "75%         0.000000      0.000000               0.000000            0.820000   \n",
       "max         1.000000      1.000000               1.000000            1.000000   \n",
       "\n",
       "       last_evaluation  \n",
       "count     14972.000000  \n",
       "mean          0.716125  \n",
       "std           0.171138  \n",
       "min           0.360000  \n",
       "25%           0.560000  \n",
       "50%           0.720000  \n",
       "75%           0.870000  \n",
       "max           1.000000  "
      ]
     },
     "execution_count": 29,
     "metadata": {},
     "output_type": "execute_result"
    }
   ],
   "source": [
    "df.describe()"
   ]
  },
  {
   "cell_type": "code",
   "execution_count": 30,
   "id": "6b3a8dd8",
   "metadata": {},
   "outputs": [],
   "source": [
    "df.fillna(df.mean(), inplace=True)"
   ]
  },
  {
   "cell_type": "code",
   "execution_count": 394,
   "id": "4c9cd336",
   "metadata": {},
   "outputs": [
    {
     "data": {
      "text/plain": [
       "number_project           0\n",
       "average_montly_hours     0\n",
       "time_spend_company       0\n",
       "Work_accident            0\n",
       "left                     0\n",
       "promotion_last_5years    0\n",
       "department               0\n",
       "salary                   0\n",
       "satisfaction_level       0\n",
       "last_evaluation          0\n",
       "dtype: int64"
      ]
     },
     "execution_count": 394,
     "metadata": {},
     "output_type": "execute_result"
    }
   ],
   "source": [
    "df.isnull().sum()"
   ]
  },
  {
   "cell_type": "code",
   "execution_count": 384,
   "id": "ca912b9b",
   "metadata": {},
   "outputs": [
    {
     "data": {
      "image/png": "[encoded data removed]",
      "text/plain": [
       "<Figure size 936x432 with 2 Axes>"
      ]
     },
     "metadata": {},
     "output_type": "display_data"
    }
   ],
   "source": [
    "numerical_features = ['satisfaction_level', 'last_evaluation']\n",
    "s = np.linspace(0, 1, 2)\n",
    "\n",
    "# Plotting the KDEplots\n",
    "f, axes = plt.subplots(1, 2, figsize=(13, 6), sharex=False, sharey=False)\n",
    "\n",
    "for index, feature in enumerate(numerical_features):\n",
    "    # Defining our colormap scheme\n",
    "    cmap = sns.cubehelix_palette(start=s[index], light=1, gamma=1.2, as_cmap=True)\n",
    "    # Generate and plot\n",
    "    display_kdeplot(df, 'left', feature, cmap, index)\n",
    "\n",
    "f.tight_layout()"
   ]
  },
  {
   "cell_type": "markdown",
   "id": "b7b387a7",
   "metadata": {},
   "source": [
    "### Observations\n",
    "- we observe that the leavers tend to be less satisfied than the rest of the employees\n",
    "- the leavers demonstrate either low evaluation performance or high evaluation\n",
    "- This seems quite logical and we can assume two groups in the leavers population: the high performing, hard-working and the low-performing, unsatisfied, employees."
   ]
  },
  {
   "cell_type": "markdown",
   "id": "81add695",
   "metadata": {},
   "source": [
    "### Let's look at correlation"
   ]
  },
  {
   "cell_type": "code",
   "execution_count": 393,
   "id": "657343c6",
   "metadata": {},
   "outputs": [
    {
     "data": {
      "image/png": "[encoded data removed]",
      "text/plain": [
       "<Figure size 1080x720 with 2 Axes>"
      ]
     },
     "metadata": {},
     "output_type": "display_data"
    }
   ],
   "source": [
    "correlations = df.corr()\n",
    "f, ax = plt.subplots(figsize=(15,10))\n",
    "sns.heatmap(correlations, annot=True, cmap=\"viridis\")\n",
    "plt.show()"
   ]
  },
  {
   "cell_type": "markdown",
   "id": "0ad31e33",
   "metadata": {},
   "source": [
    "### Observations\n",
    "- Logically, working hours and number of projects are correlated. The evaluation score seems also correlated with these two demonstrating hard-working behavior\n",
    "- the satisfaction level shows negative correlation for the leavers which is logical. We also see that the satisfaction level is negatively correlated with the workload\n",
    "- Last, it seems the satisfaction deteriorates with the length of service"
   ]
  },
  {
   "cell_type": "markdown",
   "id": "93ddff7a",
   "metadata": {},
   "source": [
    "- the dataset is skewed with less leavers in the total sample population"
   ]
  },
  {
   "cell_type": "code",
   "execution_count": 447,
   "id": "d333977b",
   "metadata": {},
   "outputs": [
    {
     "data": {
      "image/png": "[encoded data removed]",
      "text/plain": [
       "<Figure size 432x288 with 1 Axes>"
      ]
     },
     "metadata": {},
     "output_type": "display_data"
    }
   ],
   "source": [
    "sns.countplot( x=y)\n",
    "plt.show()"
   ]
  },
  {
   "cell_type": "code",
   "execution_count": 463,
   "id": "8eecf943",
   "metadata": {},
   "outputs": [
    {
     "data": {
      "image/png": "[encoded data removed]",
      "text/plain": [
       "<Figure size 1080x432 with 1 Axes>"
      ]
     },
     "metadata": {},
     "output_type": "display_data"
    }
   ],
   "source": [
    "plt.figure(figsize=(15,6))\n",
    "sns.countplot(x=df.department, hue=df.left, )\n",
    "plt.title('Leaver employees per department')\n",
    "plt.show()"
   ]
  },
  {
   "cell_type": "markdown",
   "id": "cbd30234",
   "metadata": {},
   "source": [
    "### Let's transform the categorical features into one-hot vectors\n",
    "- we drop the first dummy variable since the situation can be described with the remaining vectors. This also avoid correlation between the dummy variables"
   ]
  },
  {
   "cell_type": "code",
   "execution_count": 36,
   "id": "270e1c3e",
   "metadata": {},
   "outputs": [
    {
     "data": {
      "text/html": [
       "<div>\n",
       "<style scoped>\n",
       "    .dataframe tbody tr th:only-of-type {\n",
       "        vertical-align: middle;\n",
       "    }\n",
       "\n",
       "    .dataframe tbody tr th {\n",
       "        vertical-align: top;\n",
       "    }\n",
       "\n",
       "    .dataframe thead th {\n",
       "        text-align: right;\n",
       "    }\n",
       "</style>\n",
       "<table border=\"1\" class=\"dataframe\">\n",
       "  <thead>\n",
       "    <tr style=\"text-align: right;\">\n",
       "      <th></th>\n",
       "      <th>number_project</th>\n",
       "      <th>average_montly_hours</th>\n",
       "      <th>time_spend_company</th>\n",
       "      <th>Work_accident</th>\n",
       "      <th>left</th>\n",
       "      <th>promotion_last_5years</th>\n",
       "      <th>satisfaction_level</th>\n",
       "      <th>last_evaluation</th>\n",
       "      <th>department_RandD</th>\n",
       "      <th>department_accounting</th>\n",
       "      <th>department_hr</th>\n",
       "      <th>department_management</th>\n",
       "      <th>department_marketing</th>\n",
       "      <th>department_product_mng</th>\n",
       "      <th>department_sales</th>\n",
       "      <th>department_support</th>\n",
       "      <th>department_technical</th>\n",
       "      <th>salary_low</th>\n",
       "      <th>salary_medium</th>\n",
       "    </tr>\n",
       "  </thead>\n",
       "  <tbody>\n",
       "    <tr>\n",
       "      <th>0</th>\n",
       "      <td>2</td>\n",
       "      <td>157</td>\n",
       "      <td>3</td>\n",
       "      <td>0</td>\n",
       "      <td>1</td>\n",
       "      <td>0</td>\n",
       "      <td>0.38</td>\n",
       "      <td>0.53</td>\n",
       "      <td>0</td>\n",
       "      <td>0</td>\n",
       "      <td>0</td>\n",
       "      <td>0</td>\n",
       "      <td>0</td>\n",
       "      <td>0</td>\n",
       "      <td>1</td>\n",
       "      <td>0</td>\n",
       "      <td>0</td>\n",
       "      <td>1</td>\n",
       "      <td>0</td>\n",
       "    </tr>\n",
       "    <tr>\n",
       "      <th>1</th>\n",
       "      <td>5</td>\n",
       "      <td>262</td>\n",
       "      <td>6</td>\n",
       "      <td>0</td>\n",
       "      <td>1</td>\n",
       "      <td>0</td>\n",
       "      <td>0.80</td>\n",
       "      <td>0.86</td>\n",
       "      <td>0</td>\n",
       "      <td>0</td>\n",
       "      <td>0</td>\n",
       "      <td>0</td>\n",
       "      <td>0</td>\n",
       "      <td>0</td>\n",
       "      <td>1</td>\n",
       "      <td>0</td>\n",
       "      <td>0</td>\n",
       "      <td>0</td>\n",
       "      <td>1</td>\n",
       "    </tr>\n",
       "    <tr>\n",
       "      <th>2</th>\n",
       "      <td>7</td>\n",
       "      <td>272</td>\n",
       "      <td>4</td>\n",
       "      <td>0</td>\n",
       "      <td>1</td>\n",
       "      <td>0</td>\n",
       "      <td>0.11</td>\n",
       "      <td>0.88</td>\n",
       "      <td>0</td>\n",
       "      <td>0</td>\n",
       "      <td>0</td>\n",
       "      <td>0</td>\n",
       "      <td>0</td>\n",
       "      <td>0</td>\n",
       "      <td>1</td>\n",
       "      <td>0</td>\n",
       "      <td>0</td>\n",
       "      <td>0</td>\n",
       "      <td>1</td>\n",
       "    </tr>\n",
       "    <tr>\n",
       "      <th>3</th>\n",
       "      <td>5</td>\n",
       "      <td>223</td>\n",
       "      <td>5</td>\n",
       "      <td>0</td>\n",
       "      <td>1</td>\n",
       "      <td>0</td>\n",
       "      <td>0.72</td>\n",
       "      <td>0.87</td>\n",
       "      <td>0</td>\n",
       "      <td>0</td>\n",
       "      <td>0</td>\n",
       "      <td>0</td>\n",
       "      <td>0</td>\n",
       "      <td>0</td>\n",
       "      <td>1</td>\n",
       "      <td>0</td>\n",
       "      <td>0</td>\n",
       "      <td>1</td>\n",
       "      <td>0</td>\n",
       "    </tr>\n",
       "    <tr>\n",
       "      <th>4</th>\n",
       "      <td>2</td>\n",
       "      <td>159</td>\n",
       "      <td>3</td>\n",
       "      <td>0</td>\n",
       "      <td>1</td>\n",
       "      <td>0</td>\n",
       "      <td>0.37</td>\n",
       "      <td>0.52</td>\n",
       "      <td>0</td>\n",
       "      <td>0</td>\n",
       "      <td>0</td>\n",
       "      <td>0</td>\n",
       "      <td>0</td>\n",
       "      <td>0</td>\n",
       "      <td>1</td>\n",
       "      <td>0</td>\n",
       "      <td>0</td>\n",
       "      <td>1</td>\n",
       "      <td>0</td>\n",
       "    </tr>\n",
       "    <tr>\n",
       "      <th>...</th>\n",
       "      <td>...</td>\n",
       "      <td>...</td>\n",
       "      <td>...</td>\n",
       "      <td>...</td>\n",
       "      <td>...</td>\n",
       "      <td>...</td>\n",
       "      <td>...</td>\n",
       "      <td>...</td>\n",
       "      <td>...</td>\n",
       "      <td>...</td>\n",
       "      <td>...</td>\n",
       "      <td>...</td>\n",
       "      <td>...</td>\n",
       "      <td>...</td>\n",
       "      <td>...</td>\n",
       "      <td>...</td>\n",
       "      <td>...</td>\n",
       "      <td>...</td>\n",
       "      <td>...</td>\n",
       "    </tr>\n",
       "    <tr>\n",
       "      <th>14994</th>\n",
       "      <td>2</td>\n",
       "      <td>151</td>\n",
       "      <td>3</td>\n",
       "      <td>0</td>\n",
       "      <td>1</td>\n",
       "      <td>0</td>\n",
       "      <td>0.40</td>\n",
       "      <td>0.57</td>\n",
       "      <td>0</td>\n",
       "      <td>0</td>\n",
       "      <td>0</td>\n",
       "      <td>0</td>\n",
       "      <td>0</td>\n",
       "      <td>0</td>\n",
       "      <td>0</td>\n",
       "      <td>1</td>\n",
       "      <td>0</td>\n",
       "      <td>1</td>\n",
       "      <td>0</td>\n",
       "    </tr>\n",
       "    <tr>\n",
       "      <th>14995</th>\n",
       "      <td>2</td>\n",
       "      <td>160</td>\n",
       "      <td>3</td>\n",
       "      <td>0</td>\n",
       "      <td>1</td>\n",
       "      <td>0</td>\n",
       "      <td>0.37</td>\n",
       "      <td>0.48</td>\n",
       "      <td>0</td>\n",
       "      <td>0</td>\n",
       "      <td>0</td>\n",
       "      <td>0</td>\n",
       "      <td>0</td>\n",
       "      <td>0</td>\n",
       "      <td>0</td>\n",
       "      <td>1</td>\n",
       "      <td>0</td>\n",
       "      <td>1</td>\n",
       "      <td>0</td>\n",
       "    </tr>\n",
       "    <tr>\n",
       "      <th>14996</th>\n",
       "      <td>2</td>\n",
       "      <td>143</td>\n",
       "      <td>3</td>\n",
       "      <td>0</td>\n",
       "      <td>1</td>\n",
       "      <td>0</td>\n",
       "      <td>0.37</td>\n",
       "      <td>0.53</td>\n",
       "      <td>0</td>\n",
       "      <td>0</td>\n",
       "      <td>0</td>\n",
       "      <td>0</td>\n",
       "      <td>0</td>\n",
       "      <td>0</td>\n",
       "      <td>0</td>\n",
       "      <td>1</td>\n",
       "      <td>0</td>\n",
       "      <td>1</td>\n",
       "      <td>0</td>\n",
       "    </tr>\n",
       "    <tr>\n",
       "      <th>14997</th>\n",
       "      <td>6</td>\n",
       "      <td>280</td>\n",
       "      <td>4</td>\n",
       "      <td>0</td>\n",
       "      <td>1</td>\n",
       "      <td>0</td>\n",
       "      <td>0.11</td>\n",
       "      <td>0.96</td>\n",
       "      <td>0</td>\n",
       "      <td>0</td>\n",
       "      <td>0</td>\n",
       "      <td>0</td>\n",
       "      <td>0</td>\n",
       "      <td>0</td>\n",
       "      <td>0</td>\n",
       "      <td>1</td>\n",
       "      <td>0</td>\n",
       "      <td>1</td>\n",
       "      <td>0</td>\n",
       "    </tr>\n",
       "    <tr>\n",
       "      <th>14998</th>\n",
       "      <td>2</td>\n",
       "      <td>158</td>\n",
       "      <td>3</td>\n",
       "      <td>0</td>\n",
       "      <td>1</td>\n",
       "      <td>0</td>\n",
       "      <td>0.37</td>\n",
       "      <td>0.52</td>\n",
       "      <td>0</td>\n",
       "      <td>0</td>\n",
       "      <td>0</td>\n",
       "      <td>0</td>\n",
       "      <td>0</td>\n",
       "      <td>0</td>\n",
       "      <td>0</td>\n",
       "      <td>1</td>\n",
       "      <td>0</td>\n",
       "      <td>1</td>\n",
       "      <td>0</td>\n",
       "    </tr>\n",
       "  </tbody>\n",
       "</table>\n",
       "<p>14999 rows × 19 columns</p>\n",
       "</div>"
      ],
      "text/plain": [
       "       number_project  average_montly_hours  time_spend_company  \\\n",
       "0                   2                   157                   3   \n",
       "1                   5                   262                   6   \n",
       "2                   7                   272                   4   \n",
       "3                   5                   223                   5   \n",
       "4                   2                   159                   3   \n",
       "...               ...                   ...                 ...   \n",
       "14994               2                   151                   3   \n",
       "14995               2                   160                   3   \n",
       "14996               2                   143                   3   \n",
       "14997               6                   280                   4   \n",
       "14998               2                   158                   3   \n",
       "\n",
       "       Work_accident  left  promotion_last_5years  satisfaction_level  \\\n",
       "0                  0     1                      0                0.38   \n",
       "1                  0     1                      0                0.80   \n",
       "2                  0     1                      0                0.11   \n",
       "3                  0     1                      0                0.72   \n",
       "4                  0     1                      0                0.37   \n",
       "...              ...   ...                    ...                 ...   \n",
       "14994              0     1                      0                0.40   \n",
       "14995              0     1                      0                0.37   \n",
       "14996              0     1                      0                0.37   \n",
       "14997              0     1                      0                0.11   \n",
       "14998              0     1                      0                0.37   \n",
       "\n",
       "       last_evaluation  department_RandD  department_accounting  \\\n",
       "0                 0.53                 0                      0   \n",
       "1                 0.86                 0                      0   \n",
       "2                 0.88                 0                      0   \n",
       "3                 0.87                 0                      0   \n",
       "4                 0.52                 0                      0   \n",
       "...                ...               ...                    ...   \n",
       "14994             0.57                 0                      0   \n",
       "14995             0.48                 0                      0   \n",
       "14996             0.53                 0                      0   \n",
       "14997             0.96                 0                      0   \n",
       "14998             0.52                 0                      0   \n",
       "\n",
       "       department_hr  department_management  department_marketing  \\\n",
       "0                  0                      0                     0   \n",
       "1                  0                      0                     0   \n",
       "2                  0                      0                     0   \n",
       "3                  0                      0                     0   \n",
       "4                  0                      0                     0   \n",
       "...              ...                    ...                   ...   \n",
       "14994              0                      0                     0   \n",
       "14995              0                      0                     0   \n",
       "14996              0                      0                     0   \n",
       "14997              0                      0                     0   \n",
       "14998              0                      0                     0   \n",
       "\n",
       "       department_product_mng  department_sales  department_support  \\\n",
       "0                           0                 1                   0   \n",
       "1                           0                 1                   0   \n",
       "2                           0                 1                   0   \n",
       "3                           0                 1                   0   \n",
       "4                           0                 1                   0   \n",
       "...                       ...               ...                 ...   \n",
       "14994                       0                 0                   1   \n",
       "14995                       0                 0                   1   \n",
       "14996                       0                 0                   1   \n",
       "14997                       0                 0                   1   \n",
       "14998                       0                 0                   1   \n",
       "\n",
       "       department_technical  salary_low  salary_medium  \n",
       "0                         0           1              0  \n",
       "1                         0           0              1  \n",
       "2                         0           0              1  \n",
       "3                         0           1              0  \n",
       "4                         0           1              0  \n",
       "...                     ...         ...            ...  \n",
       "14994                     0           1              0  \n",
       "14995                     0           1              0  \n",
       "14996                     0           1              0  \n",
       "14997                     0           1              0  \n",
       "14998                     0           1              0  \n",
       "\n",
       "[14999 rows x 19 columns]"
      ]
     },
     "execution_count": 36,
     "metadata": {},
     "output_type": "execute_result"
    }
   ],
   "source": [
    "final_df = pd.get_dummies(data=df, columns=categorical_columns.columns, drop_first=True)\n",
    "final_df"
   ]
  },
  {
   "cell_type": "code",
   "execution_count": 258,
   "id": "e8fa74d2",
   "metadata": {},
   "outputs": [],
   "source": [
    "y = final_df.left\n",
    "x = final_df.drop(['left'], axis=1)"
   ]
  },
  {
   "cell_type": "markdown",
   "id": "ffbdc4df",
   "metadata": {},
   "source": [
    "# Prepare training data\n",
    "- we split our dataset into 75% train, 25% test"
   ]
  },
  {
   "cell_type": "code",
   "execution_count": 397,
   "id": "2276dc5b",
   "metadata": {},
   "outputs": [],
   "source": [
    "X_train, X_test, y_train, y_test = train_test_split(x,y, test_size=0.25, shuffle=True, random_state=0)"
   ]
  },
  {
   "cell_type": "code",
   "execution_count": 398,
   "id": "a464dcf1",
   "metadata": {},
   "outputs": [
    {
     "data": {
      "text/html": [
       "<div>\n",
       "<style scoped>\n",
       "    .dataframe tbody tr th:only-of-type {\n",
       "        vertical-align: middle;\n",
       "    }\n",
       "\n",
       "    .dataframe tbody tr th {\n",
       "        vertical-align: top;\n",
       "    }\n",
       "\n",
       "    .dataframe thead th {\n",
       "        text-align: right;\n",
       "    }\n",
       "</style>\n",
       "<table border=\"1\" class=\"dataframe\">\n",
       "  <thead>\n",
       "    <tr style=\"text-align: right;\">\n",
       "      <th></th>\n",
       "      <th>number_project</th>\n",
       "      <th>average_montly_hours</th>\n",
       "      <th>time_spend_company</th>\n",
       "      <th>Work_accident</th>\n",
       "      <th>promotion_last_5years</th>\n",
       "      <th>satisfaction_level</th>\n",
       "      <th>last_evaluation</th>\n",
       "      <th>department_RandD</th>\n",
       "      <th>department_accounting</th>\n",
       "      <th>department_hr</th>\n",
       "      <th>department_management</th>\n",
       "      <th>department_marketing</th>\n",
       "      <th>department_product_mng</th>\n",
       "      <th>department_sales</th>\n",
       "      <th>department_support</th>\n",
       "      <th>department_technical</th>\n",
       "      <th>salary_low</th>\n",
       "      <th>salary_medium</th>\n",
       "    </tr>\n",
       "  </thead>\n",
       "  <tbody>\n",
       "    <tr>\n",
       "      <th>5150</th>\n",
       "      <td>3</td>\n",
       "      <td>184</td>\n",
       "      <td>3</td>\n",
       "      <td>1</td>\n",
       "      <td>0</td>\n",
       "      <td>0.92</td>\n",
       "      <td>0.88</td>\n",
       "      <td>0</td>\n",
       "      <td>0</td>\n",
       "      <td>0</td>\n",
       "      <td>0</td>\n",
       "      <td>0</td>\n",
       "      <td>0</td>\n",
       "      <td>0</td>\n",
       "      <td>0</td>\n",
       "      <td>1</td>\n",
       "      <td>1</td>\n",
       "      <td>0</td>\n",
       "    </tr>\n",
       "    <tr>\n",
       "      <th>13288</th>\n",
       "      <td>4</td>\n",
       "      <td>150</td>\n",
       "      <td>2</td>\n",
       "      <td>0</td>\n",
       "      <td>0</td>\n",
       "      <td>0.97</td>\n",
       "      <td>0.57</td>\n",
       "      <td>0</td>\n",
       "      <td>0</td>\n",
       "      <td>0</td>\n",
       "      <td>0</td>\n",
       "      <td>0</td>\n",
       "      <td>0</td>\n",
       "      <td>0</td>\n",
       "      <td>0</td>\n",
       "      <td>0</td>\n",
       "      <td>0</td>\n",
       "      <td>1</td>\n",
       "    </tr>\n",
       "    <tr>\n",
       "      <th>8</th>\n",
       "      <td>5</td>\n",
       "      <td>224</td>\n",
       "      <td>5</td>\n",
       "      <td>0</td>\n",
       "      <td>0</td>\n",
       "      <td>0.89</td>\n",
       "      <td>1.00</td>\n",
       "      <td>0</td>\n",
       "      <td>0</td>\n",
       "      <td>0</td>\n",
       "      <td>0</td>\n",
       "      <td>0</td>\n",
       "      <td>0</td>\n",
       "      <td>1</td>\n",
       "      <td>0</td>\n",
       "      <td>0</td>\n",
       "      <td>1</td>\n",
       "      <td>0</td>\n",
       "    </tr>\n",
       "    <tr>\n",
       "      <th>1832</th>\n",
       "      <td>4</td>\n",
       "      <td>252</td>\n",
       "      <td>5</td>\n",
       "      <td>0</td>\n",
       "      <td>0</td>\n",
       "      <td>0.82</td>\n",
       "      <td>0.92</td>\n",
       "      <td>0</td>\n",
       "      <td>0</td>\n",
       "      <td>0</td>\n",
       "      <td>0</td>\n",
       "      <td>1</td>\n",
       "      <td>0</td>\n",
       "      <td>0</td>\n",
       "      <td>0</td>\n",
       "      <td>0</td>\n",
       "      <td>0</td>\n",
       "      <td>1</td>\n",
       "    </tr>\n",
       "    <tr>\n",
       "      <th>13827</th>\n",
       "      <td>3</td>\n",
       "      <td>158</td>\n",
       "      <td>8</td>\n",
       "      <td>1</td>\n",
       "      <td>0</td>\n",
       "      <td>0.62</td>\n",
       "      <td>0.40</td>\n",
       "      <td>0</td>\n",
       "      <td>0</td>\n",
       "      <td>0</td>\n",
       "      <td>0</td>\n",
       "      <td>1</td>\n",
       "      <td>0</td>\n",
       "      <td>0</td>\n",
       "      <td>0</td>\n",
       "      <td>0</td>\n",
       "      <td>1</td>\n",
       "      <td>0</td>\n",
       "    </tr>\n",
       "    <tr>\n",
       "      <th>...</th>\n",
       "      <td>...</td>\n",
       "      <td>...</td>\n",
       "      <td>...</td>\n",
       "      <td>...</td>\n",
       "      <td>...</td>\n",
       "      <td>...</td>\n",
       "      <td>...</td>\n",
       "      <td>...</td>\n",
       "      <td>...</td>\n",
       "      <td>...</td>\n",
       "      <td>...</td>\n",
       "      <td>...</td>\n",
       "      <td>...</td>\n",
       "      <td>...</td>\n",
       "      <td>...</td>\n",
       "      <td>...</td>\n",
       "      <td>...</td>\n",
       "      <td>...</td>\n",
       "    </tr>\n",
       "    <tr>\n",
       "      <th>13123</th>\n",
       "      <td>3</td>\n",
       "      <td>270</td>\n",
       "      <td>3</td>\n",
       "      <td>0</td>\n",
       "      <td>0</td>\n",
       "      <td>0.52</td>\n",
       "      <td>0.57</td>\n",
       "      <td>1</td>\n",
       "      <td>0</td>\n",
       "      <td>0</td>\n",
       "      <td>0</td>\n",
       "      <td>0</td>\n",
       "      <td>0</td>\n",
       "      <td>0</td>\n",
       "      <td>0</td>\n",
       "      <td>0</td>\n",
       "      <td>1</td>\n",
       "      <td>0</td>\n",
       "    </tr>\n",
       "    <tr>\n",
       "      <th>3264</th>\n",
       "      <td>4</td>\n",
       "      <td>209</td>\n",
       "      <td>2</td>\n",
       "      <td>0</td>\n",
       "      <td>0</td>\n",
       "      <td>0.59</td>\n",
       "      <td>0.79</td>\n",
       "      <td>0</td>\n",
       "      <td>0</td>\n",
       "      <td>0</td>\n",
       "      <td>0</td>\n",
       "      <td>0</td>\n",
       "      <td>0</td>\n",
       "      <td>0</td>\n",
       "      <td>0</td>\n",
       "      <td>1</td>\n",
       "      <td>0</td>\n",
       "      <td>1</td>\n",
       "    </tr>\n",
       "    <tr>\n",
       "      <th>9845</th>\n",
       "      <td>5</td>\n",
       "      <td>259</td>\n",
       "      <td>2</td>\n",
       "      <td>0</td>\n",
       "      <td>0</td>\n",
       "      <td>0.69</td>\n",
       "      <td>0.94</td>\n",
       "      <td>0</td>\n",
       "      <td>0</td>\n",
       "      <td>0</td>\n",
       "      <td>0</td>\n",
       "      <td>0</td>\n",
       "      <td>0</td>\n",
       "      <td>0</td>\n",
       "      <td>0</td>\n",
       "      <td>0</td>\n",
       "      <td>0</td>\n",
       "      <td>1</td>\n",
       "    </tr>\n",
       "    <tr>\n",
       "      <th>10799</th>\n",
       "      <td>5</td>\n",
       "      <td>236</td>\n",
       "      <td>3</td>\n",
       "      <td>0</td>\n",
       "      <td>0</td>\n",
       "      <td>0.78</td>\n",
       "      <td>0.59</td>\n",
       "      <td>0</td>\n",
       "      <td>0</td>\n",
       "      <td>0</td>\n",
       "      <td>0</td>\n",
       "      <td>0</td>\n",
       "      <td>0</td>\n",
       "      <td>0</td>\n",
       "      <td>0</td>\n",
       "      <td>1</td>\n",
       "      <td>0</td>\n",
       "      <td>0</td>\n",
       "    </tr>\n",
       "    <tr>\n",
       "      <th>2732</th>\n",
       "      <td>5</td>\n",
       "      <td>203</td>\n",
       "      <td>2</td>\n",
       "      <td>0</td>\n",
       "      <td>0</td>\n",
       "      <td>0.56</td>\n",
       "      <td>0.68</td>\n",
       "      <td>0</td>\n",
       "      <td>0</td>\n",
       "      <td>0</td>\n",
       "      <td>0</td>\n",
       "      <td>0</td>\n",
       "      <td>0</td>\n",
       "      <td>0</td>\n",
       "      <td>0</td>\n",
       "      <td>0</td>\n",
       "      <td>1</td>\n",
       "      <td>0</td>\n",
       "    </tr>\n",
       "  </tbody>\n",
       "</table>\n",
       "<p>11249 rows × 18 columns</p>\n",
       "</div>"
      ],
      "text/plain": [
       "       number_project  average_montly_hours  time_spend_company  \\\n",
       "5150                3                   184                   3   \n",
       "13288               4                   150                   2   \n",
       "8                   5                   224                   5   \n",
       "1832                4                   252                   5   \n",
       "13827               3                   158                   8   \n",
       "...               ...                   ...                 ...   \n",
       "13123               3                   270                   3   \n",
       "3264                4                   209                   2   \n",
       "9845                5                   259                   2   \n",
       "10799               5                   236                   3   \n",
       "2732                5                   203                   2   \n",
       "\n",
       "       Work_accident  promotion_last_5years  satisfaction_level  \\\n",
       "5150               1                      0                0.92   \n",
       "13288              0                      0                0.97   \n",
       "8                  0                      0                0.89   \n",
       "1832               0                      0                0.82   \n",
       "13827              1                      0                0.62   \n",
       "...              ...                    ...                 ...   \n",
       "13123              0                      0                0.52   \n",
       "3264               0                      0                0.59   \n",
       "9845               0                      0                0.69   \n",
       "10799              0                      0                0.78   \n",
       "2732               0                      0                0.56   \n",
       "\n",
       "       last_evaluation  department_RandD  department_accounting  \\\n",
       "5150              0.88                 0                      0   \n",
       "13288             0.57                 0                      0   \n",
       "8                 1.00                 0                      0   \n",
       "1832              0.92                 0                      0   \n",
       "13827             0.40                 0                      0   \n",
       "...                ...               ...                    ...   \n",
       "13123             0.57                 1                      0   \n",
       "3264              0.79                 0                      0   \n",
       "9845              0.94                 0                      0   \n",
       "10799             0.59                 0                      0   \n",
       "2732              0.68                 0                      0   \n",
       "\n",
       "       department_hr  department_management  department_marketing  \\\n",
       "5150               0                      0                     0   \n",
       "13288              0                      0                     0   \n",
       "8                  0                      0                     0   \n",
       "1832               0                      0                     1   \n",
       "13827              0                      0                     1   \n",
       "...              ...                    ...                   ...   \n",
       "13123              0                      0                     0   \n",
       "3264               0                      0                     0   \n",
       "9845               0                      0                     0   \n",
       "10799              0                      0                     0   \n",
       "2732               0                      0                     0   \n",
       "\n",
       "       department_product_mng  department_sales  department_support  \\\n",
       "5150                        0                 0                   0   \n",
       "13288                       0                 0                   0   \n",
       "8                           0                 1                   0   \n",
       "1832                        0                 0                   0   \n",
       "13827                       0                 0                   0   \n",
       "...                       ...               ...                 ...   \n",
       "13123                       0                 0                   0   \n",
       "3264                        0                 0                   0   \n",
       "9845                        0                 0                   0   \n",
       "10799                       0                 0                   0   \n",
       "2732                        0                 0                   0   \n",
       "\n",
       "       department_technical  salary_low  salary_medium  \n",
       "5150                      1           1              0  \n",
       "13288                     0           0              1  \n",
       "8                         0           1              0  \n",
       "1832                      0           0              1  \n",
       "13827                     0           1              0  \n",
       "...                     ...         ...            ...  \n",
       "13123                     0           1              0  \n",
       "3264                      1           0              1  \n",
       "9845                      0           0              1  \n",
       "10799                     1           0              0  \n",
       "2732                      0           1              0  \n",
       "\n",
       "[11249 rows x 18 columns]"
      ]
     },
     "execution_count": 398,
     "metadata": {},
     "output_type": "execute_result"
    }
   ],
   "source": [
    "X_train"
   ]
  },
  {
   "cell_type": "code",
   "execution_count": 399,
   "id": "22aba09a",
   "metadata": {},
   "outputs": [],
   "source": [
    "# Normalize the data\n",
    "from sklearn.preprocessing import StandardScaler\n",
    "\n",
    "sc = StandardScaler()\n",
    "x_train = sc.fit_transform(X_train)\n",
    "x_test = sc.transform(X_test)"
   ]
  },
  {
   "cell_type": "markdown",
   "id": "4afd8b28",
   "metadata": {},
   "source": [
    "### Let's normalize the data (centering around mean and standard deviation equals to 1)\n",
    "- y already 0 or 1"
   ]
  },
  {
   "cell_type": "code",
   "execution_count": 400,
   "id": "8bc6589c",
   "metadata": {},
   "outputs": [
    {
     "data": {
      "text/html": [
       "<div>\n",
       "<style scoped>\n",
       "    .dataframe tbody tr th:only-of-type {\n",
       "        vertical-align: middle;\n",
       "    }\n",
       "\n",
       "    .dataframe tbody tr th {\n",
       "        vertical-align: top;\n",
       "    }\n",
       "\n",
       "    .dataframe thead th {\n",
       "        text-align: right;\n",
       "    }\n",
       "</style>\n",
       "<table border=\"1\" class=\"dataframe\">\n",
       "  <thead>\n",
       "    <tr style=\"text-align: right;\">\n",
       "      <th></th>\n",
       "      <th>number_project</th>\n",
       "      <th>average_montly_hours</th>\n",
       "      <th>time_spend_company</th>\n",
       "      <th>Work_accident</th>\n",
       "      <th>promotion_last_5years</th>\n",
       "      <th>satisfaction_level</th>\n",
       "      <th>last_evaluation</th>\n",
       "      <th>department_RandD</th>\n",
       "      <th>department_accounting</th>\n",
       "      <th>department_hr</th>\n",
       "      <th>department_management</th>\n",
       "      <th>department_marketing</th>\n",
       "      <th>department_product_mng</th>\n",
       "      <th>department_sales</th>\n",
       "      <th>department_support</th>\n",
       "      <th>department_technical</th>\n",
       "      <th>salary_low</th>\n",
       "      <th>salary_medium</th>\n",
       "    </tr>\n",
       "  </thead>\n",
       "  <tbody>\n",
       "    <tr>\n",
       "      <th>0</th>\n",
       "      <td>-0.650850</td>\n",
       "      <td>-0.341829</td>\n",
       "      <td>-0.342044</td>\n",
       "      <td>2.419704</td>\n",
       "      <td>-0.144795</td>\n",
       "      <td>1.239425</td>\n",
       "      <td>0.953258</td>\n",
       "      <td>-0.236740</td>\n",
       "      <td>-0.23231</td>\n",
       "      <td>-0.229319</td>\n",
       "      <td>-0.210432</td>\n",
       "      <td>-0.247844</td>\n",
       "      <td>-0.253652</td>\n",
       "      <td>-0.613895</td>\n",
       "      <td>-0.416659</td>\n",
       "      <td>2.124668</td>\n",
       "      <td>1.023660</td>\n",
       "      <td>-0.86807</td>\n",
       "    </tr>\n",
       "    <tr>\n",
       "      <th>1</th>\n",
       "      <td>0.157431</td>\n",
       "      <td>-1.022834</td>\n",
       "      <td>-1.031218</td>\n",
       "      <td>-0.413274</td>\n",
       "      <td>-0.144795</td>\n",
       "      <td>1.441248</td>\n",
       "      <td>-0.863072</td>\n",
       "      <td>-0.236740</td>\n",
       "      <td>-0.23231</td>\n",
       "      <td>-0.229319</td>\n",
       "      <td>-0.210432</td>\n",
       "      <td>-0.247844</td>\n",
       "      <td>-0.253652</td>\n",
       "      <td>-0.613895</td>\n",
       "      <td>-0.416659</td>\n",
       "      <td>-0.470662</td>\n",
       "      <td>-0.976887</td>\n",
       "      <td>1.15198</td>\n",
       "    </tr>\n",
       "    <tr>\n",
       "      <th>2</th>\n",
       "      <td>0.965712</td>\n",
       "      <td>0.459353</td>\n",
       "      <td>1.036303</td>\n",
       "      <td>-0.413274</td>\n",
       "      <td>-0.144795</td>\n",
       "      <td>1.118332</td>\n",
       "      <td>1.656354</td>\n",
       "      <td>-0.236740</td>\n",
       "      <td>-0.23231</td>\n",
       "      <td>-0.229319</td>\n",
       "      <td>-0.210432</td>\n",
       "      <td>-0.247844</td>\n",
       "      <td>-0.253652</td>\n",
       "      <td>1.628944</td>\n",
       "      <td>-0.416659</td>\n",
       "      <td>-0.470662</td>\n",
       "      <td>1.023660</td>\n",
       "      <td>-0.86807</td>\n",
       "    </tr>\n",
       "    <tr>\n",
       "      <th>3</th>\n",
       "      <td>0.157431</td>\n",
       "      <td>1.020181</td>\n",
       "      <td>1.036303</td>\n",
       "      <td>-0.413274</td>\n",
       "      <td>-0.144795</td>\n",
       "      <td>0.835780</td>\n",
       "      <td>1.187623</td>\n",
       "      <td>-0.236740</td>\n",
       "      <td>-0.23231</td>\n",
       "      <td>-0.229319</td>\n",
       "      <td>-0.210432</td>\n",
       "      <td>4.034795</td>\n",
       "      <td>-0.253652</td>\n",
       "      <td>-0.613895</td>\n",
       "      <td>-0.416659</td>\n",
       "      <td>-0.470662</td>\n",
       "      <td>-0.976887</td>\n",
       "      <td>1.15198</td>\n",
       "    </tr>\n",
       "    <tr>\n",
       "      <th>4</th>\n",
       "      <td>-0.650850</td>\n",
       "      <td>-0.862597</td>\n",
       "      <td>3.103823</td>\n",
       "      <td>2.419704</td>\n",
       "      <td>-0.144795</td>\n",
       "      <td>0.028489</td>\n",
       "      <td>-1.859125</td>\n",
       "      <td>-0.236740</td>\n",
       "      <td>-0.23231</td>\n",
       "      <td>-0.229319</td>\n",
       "      <td>-0.210432</td>\n",
       "      <td>4.034795</td>\n",
       "      <td>-0.253652</td>\n",
       "      <td>-0.613895</td>\n",
       "      <td>-0.416659</td>\n",
       "      <td>-0.470662</td>\n",
       "      <td>1.023660</td>\n",
       "      <td>-0.86807</td>\n",
       "    </tr>\n",
       "    <tr>\n",
       "      <th>...</th>\n",
       "      <td>...</td>\n",
       "      <td>...</td>\n",
       "      <td>...</td>\n",
       "      <td>...</td>\n",
       "      <td>...</td>\n",
       "      <td>...</td>\n",
       "      <td>...</td>\n",
       "      <td>...</td>\n",
       "      <td>...</td>\n",
       "      <td>...</td>\n",
       "      <td>...</td>\n",
       "      <td>...</td>\n",
       "      <td>...</td>\n",
       "      <td>...</td>\n",
       "      <td>...</td>\n",
       "      <td>...</td>\n",
       "      <td>...</td>\n",
       "      <td>...</td>\n",
       "    </tr>\n",
       "    <tr>\n",
       "      <th>11244</th>\n",
       "      <td>-0.650850</td>\n",
       "      <td>1.380713</td>\n",
       "      <td>-0.342044</td>\n",
       "      <td>-0.413274</td>\n",
       "      <td>-0.144795</td>\n",
       "      <td>-0.375157</td>\n",
       "      <td>-0.863072</td>\n",
       "      <td>4.224044</td>\n",
       "      <td>-0.23231</td>\n",
       "      <td>-0.229319</td>\n",
       "      <td>-0.210432</td>\n",
       "      <td>-0.247844</td>\n",
       "      <td>-0.253652</td>\n",
       "      <td>-0.613895</td>\n",
       "      <td>-0.416659</td>\n",
       "      <td>-0.470662</td>\n",
       "      <td>1.023660</td>\n",
       "      <td>-0.86807</td>\n",
       "    </tr>\n",
       "    <tr>\n",
       "      <th>11245</th>\n",
       "      <td>0.157431</td>\n",
       "      <td>0.158910</td>\n",
       "      <td>-1.031218</td>\n",
       "      <td>-0.413274</td>\n",
       "      <td>-0.144795</td>\n",
       "      <td>-0.092605</td>\n",
       "      <td>0.425936</td>\n",
       "      <td>-0.236740</td>\n",
       "      <td>-0.23231</td>\n",
       "      <td>-0.229319</td>\n",
       "      <td>-0.210432</td>\n",
       "      <td>-0.247844</td>\n",
       "      <td>-0.253652</td>\n",
       "      <td>-0.613895</td>\n",
       "      <td>-0.416659</td>\n",
       "      <td>2.124668</td>\n",
       "      <td>-0.976887</td>\n",
       "      <td>1.15198</td>\n",
       "    </tr>\n",
       "    <tr>\n",
       "      <th>11246</th>\n",
       "      <td>0.965712</td>\n",
       "      <td>1.160388</td>\n",
       "      <td>-1.031218</td>\n",
       "      <td>-0.413274</td>\n",
       "      <td>-0.144795</td>\n",
       "      <td>0.311040</td>\n",
       "      <td>1.304806</td>\n",
       "      <td>-0.236740</td>\n",
       "      <td>-0.23231</td>\n",
       "      <td>-0.229319</td>\n",
       "      <td>-0.210432</td>\n",
       "      <td>-0.247844</td>\n",
       "      <td>-0.253652</td>\n",
       "      <td>-0.613895</td>\n",
       "      <td>-0.416659</td>\n",
       "      <td>-0.470662</td>\n",
       "      <td>-0.976887</td>\n",
       "      <td>1.15198</td>\n",
       "    </tr>\n",
       "    <tr>\n",
       "      <th>11247</th>\n",
       "      <td>0.965712</td>\n",
       "      <td>0.699708</td>\n",
       "      <td>-0.342044</td>\n",
       "      <td>-0.413274</td>\n",
       "      <td>-0.144795</td>\n",
       "      <td>0.674322</td>\n",
       "      <td>-0.745890</td>\n",
       "      <td>-0.236740</td>\n",
       "      <td>-0.23231</td>\n",
       "      <td>-0.229319</td>\n",
       "      <td>-0.210432</td>\n",
       "      <td>-0.247844</td>\n",
       "      <td>-0.253652</td>\n",
       "      <td>-0.613895</td>\n",
       "      <td>-0.416659</td>\n",
       "      <td>2.124668</td>\n",
       "      <td>-0.976887</td>\n",
       "      <td>-0.86807</td>\n",
       "    </tr>\n",
       "    <tr>\n",
       "      <th>11248</th>\n",
       "      <td>0.965712</td>\n",
       "      <td>0.038733</td>\n",
       "      <td>-1.031218</td>\n",
       "      <td>-0.413274</td>\n",
       "      <td>-0.144795</td>\n",
       "      <td>-0.213699</td>\n",
       "      <td>-0.218568</td>\n",
       "      <td>-0.236740</td>\n",
       "      <td>-0.23231</td>\n",
       "      <td>-0.229319</td>\n",
       "      <td>-0.210432</td>\n",
       "      <td>-0.247844</td>\n",
       "      <td>-0.253652</td>\n",
       "      <td>-0.613895</td>\n",
       "      <td>-0.416659</td>\n",
       "      <td>-0.470662</td>\n",
       "      <td>1.023660</td>\n",
       "      <td>-0.86807</td>\n",
       "    </tr>\n",
       "  </tbody>\n",
       "</table>\n",
       "<p>11249 rows × 18 columns</p>\n",
       "</div>"
      ],
      "text/plain": [
       "       number_project  average_montly_hours  time_spend_company  \\\n",
       "0           -0.650850             -0.341829           -0.342044   \n",
       "1            0.157431             -1.022834           -1.031218   \n",
       "2            0.965712              0.459353            1.036303   \n",
       "3            0.157431              1.020181            1.036303   \n",
       "4           -0.650850             -0.862597            3.103823   \n",
       "...               ...                   ...                 ...   \n",
       "11244       -0.650850              1.380713           -0.342044   \n",
       "11245        0.157431              0.158910           -1.031218   \n",
       "11246        0.965712              1.160388           -1.031218   \n",
       "11247        0.965712              0.699708           -0.342044   \n",
       "11248        0.965712              0.038733           -1.031218   \n",
       "\n",
       "       Work_accident  promotion_last_5years  satisfaction_level  \\\n",
       "0           2.419704              -0.144795            1.239425   \n",
       "1          -0.413274              -0.144795            1.441248   \n",
       "2          -0.413274              -0.144795            1.118332   \n",
       "3          -0.413274              -0.144795            0.835780   \n",
       "4           2.419704              -0.144795            0.028489   \n",
       "...              ...                    ...                 ...   \n",
       "11244      -0.413274              -0.144795           -0.375157   \n",
       "11245      -0.413274              -0.144795           -0.092605   \n",
       "11246      -0.413274              -0.144795            0.311040   \n",
       "11247      -0.413274              -0.144795            0.674322   \n",
       "11248      -0.413274              -0.144795           -0.213699   \n",
       "\n",
       "       last_evaluation  department_RandD  department_accounting  \\\n",
       "0             0.953258         -0.236740               -0.23231   \n",
       "1            -0.863072         -0.236740               -0.23231   \n",
       "2             1.656354         -0.236740               -0.23231   \n",
       "3             1.187623         -0.236740               -0.23231   \n",
       "4            -1.859125         -0.236740               -0.23231   \n",
       "...                ...               ...                    ...   \n",
       "11244        -0.863072          4.224044               -0.23231   \n",
       "11245         0.425936         -0.236740               -0.23231   \n",
       "11246         1.304806         -0.236740               -0.23231   \n",
       "11247        -0.745890         -0.236740               -0.23231   \n",
       "11248        -0.218568         -0.236740               -0.23231   \n",
       "\n",
       "       department_hr  department_management  department_marketing  \\\n",
       "0          -0.229319              -0.210432             -0.247844   \n",
       "1          -0.229319              -0.210432             -0.247844   \n",
       "2          -0.229319              -0.210432             -0.247844   \n",
       "3          -0.229319              -0.210432              4.034795   \n",
       "4          -0.229319              -0.210432              4.034795   \n",
       "...              ...                    ...                   ...   \n",
       "11244      -0.229319              -0.210432             -0.247844   \n",
       "11245      -0.229319              -0.210432             -0.247844   \n",
       "11246      -0.229319              -0.210432             -0.247844   \n",
       "11247      -0.229319              -0.210432             -0.247844   \n",
       "11248      -0.229319              -0.210432             -0.247844   \n",
       "\n",
       "       department_product_mng  department_sales  department_support  \\\n",
       "0                   -0.253652         -0.613895           -0.416659   \n",
       "1                   -0.253652         -0.613895           -0.416659   \n",
       "2                   -0.253652          1.628944           -0.416659   \n",
       "3                   -0.253652         -0.613895           -0.416659   \n",
       "4                   -0.253652         -0.613895           -0.416659   \n",
       "...                       ...               ...                 ...   \n",
       "11244               -0.253652         -0.613895           -0.416659   \n",
       "11245               -0.253652         -0.613895           -0.416659   \n",
       "11246               -0.253652         -0.613895           -0.416659   \n",
       "11247               -0.253652         -0.613895           -0.416659   \n",
       "11248               -0.253652         -0.613895           -0.416659   \n",
       "\n",
       "       department_technical  salary_low  salary_medium  \n",
       "0                  2.124668    1.023660       -0.86807  \n",
       "1                 -0.470662   -0.976887        1.15198  \n",
       "2                 -0.470662    1.023660       -0.86807  \n",
       "3                 -0.470662   -0.976887        1.15198  \n",
       "4                 -0.470662    1.023660       -0.86807  \n",
       "...                     ...         ...            ...  \n",
       "11244             -0.470662    1.023660       -0.86807  \n",
       "11245              2.124668   -0.976887        1.15198  \n",
       "11246             -0.470662   -0.976887        1.15198  \n",
       "11247              2.124668   -0.976887       -0.86807  \n",
       "11248             -0.470662    1.023660       -0.86807  \n",
       "\n",
       "[11249 rows x 18 columns]"
      ]
     },
     "execution_count": 400,
     "metadata": {},
     "output_type": "execute_result"
    }
   ],
   "source": [
    "x_train_normalized = pd.DataFrame(x_train, columns=X_train.columns)\n",
    "x_train_normalized"
   ]
  },
  {
   "cell_type": "code",
   "execution_count": 401,
   "id": "16841037",
   "metadata": {},
   "outputs": [],
   "source": [
    "x_test_normalized = pd.DataFrame(x_test, columns=X_test.columns)"
   ]
  },
  {
   "cell_type": "markdown",
   "id": "b30c4167",
   "metadata": {},
   "source": [
    "# TRAIN CLASSIFICATION MODEL: Top Binary Classification Algorithms\n",
    "- https://medium.com/@alex.ortner.1982/top-10-binary-classification-algorithms-a-beginners-guide-feeacbd7a3e2\n",
    "- we will test various classifier using sklearn package\n",
    "- the objective is to train a model to predict if an employee, based on the observed features, will likely quit. This can allow to detect risks early on\n",
    "- we will explore various classifiers and identify best performing ones"
   ]
  },
  {
   "cell_type": "markdown",
   "id": "75eec0e0",
   "metadata": {},
   "source": [
    "### Logistic Regression\n",
    "- relatively weak performance with less than 79% test accuracy"
   ]
  },
  {
   "cell_type": "code",
   "execution_count": 403,
   "id": "64bec3b0",
   "metadata": {},
   "outputs": [
    {
     "data": {
      "text/plain": [
       "LogisticRegression(max_iter=1000)"
      ]
     },
     "execution_count": 403,
     "metadata": {},
     "output_type": "execute_result"
    }
   ],
   "source": [
    "from sklearn.linear_model import LogisticRegression\n",
    "lr=LogisticRegression(max_iter=1000)\n",
    "lr.fit(x_train_normalized, y_train)"
   ]
  },
  {
   "cell_type": "code",
   "execution_count": 404,
   "id": "5b041575",
   "metadata": {},
   "outputs": [
    {
     "name": "stdout",
     "output_type": "stream",
     "text": [
      "score on test: 0.7877333333333333\n",
      "score on train: 0.7913592319317273\n"
     ]
    }
   ],
   "source": [
    "print(\"score on test: \" + str(lr.score(x_test_normalized, y_test)))\n",
    "print(\"score on train: \"+ str(lr.score(x_train_normalized, y_train)))"
   ]
  },
  {
   "cell_type": "code",
   "execution_count": 420,
   "id": "fcb8303a",
   "metadata": {},
   "outputs": [],
   "source": [
    "def display_confusion_matrix(cm):\n",
    "    f, ax = plt.subplots(figsize=(4,3))\n",
    "    sns.heatmap(cm, annot=True,cmap='viridis', fmt='d', linewidths=.5, annot_kws={\"fontsize\":15})  #fmt = '.2f' 2 digits after comma #if normalize else fmt ='d' to show integers, cmap='RdYlGn',\"YlGnBu\"\n",
    "    plt.xlabel('Predicted outcome', fontsize = 15) # x-axis label with fontsize 15\n",
    "    ax.xaxis.set_ticklabels(['Stay', 'Leave'])\n",
    "    plt.ylabel('True outcome', fontsize = 15) # y-axis label with fontsize 15\n",
    "    ax.yaxis.set_ticklabels(['Stay', 'Leave'])\n",
    "    plt.title('Confusion matrix', fontsize = 20)"
   ]
  },
  {
   "cell_type": "code",
   "execution_count": 421,
   "id": "46581056",
   "metadata": {},
   "outputs": [
    {
     "name": "stdout",
     "output_type": "stream",
     "text": [
      "Accuracy 78.77%\n",
      "\n",
      "              precision    recall  f1-score   support\n",
      "\n",
      "           0       0.82      0.92      0.87      2881\n",
      "           1       0.57      0.34      0.43       869\n",
      "\n",
      "    accuracy                           0.79      3750\n",
      "   macro avg       0.70      0.63      0.65      3750\n",
      "weighted avg       0.76      0.79      0.77      3750\n",
      "\n"
     ]
    },
    {
     "data": {
      "image/png": "[encoded data removed]",
      "text/plain": [
       "<Figure size 288x216 with 2 Axes>"
      ]
     },
     "metadata": {},
     "output_type": "display_data"
    }
   ],
   "source": [
    "predictions = lr.predict(x_test_normalized)\n",
    "\n",
    "print(\"Accuracy {0:.2f}%\".format(100*accuracy_score(y_test, predictions)))\n",
    "print()\n",
    "cm = confusion_matrix(y_true = y_test, y_pred = predictions, labels=[0, 1])\n",
    "display_confusion_matrix(cm)\n",
    "print(classification_report(y_test, predictions))"
   ]
  },
  {
   "cell_type": "markdown",
   "id": "220f0a95",
   "metadata": {},
   "source": [
    "### Support Vector machine (SVM)\n",
    "- similar level of mediocre performance"
   ]
  },
  {
   "cell_type": "code",
   "execution_count": 477,
   "id": "ff7ba68e",
   "metadata": {},
   "outputs": [
    {
     "name": "stdout",
     "output_type": "stream",
     "text": [
      "score on test: 0.7784\n",
      "score on train: 0.7750022224197707\n"
     ]
    }
   ],
   "source": [
    "from sklearn.svm import LinearSVC\n",
    "svm=LinearSVC(C=0.0001)\n",
    "svm.fit(x_train_normalized, y_train)\n",
    "print(\"score on test: \" + str(svm.score(x_test_normalized, y_test)))\n",
    "print(\"score on train: \"+ str(svm.score(x_train_normalized, y_train)))"
   ]
  },
  {
   "cell_type": "markdown",
   "id": "e3dd8b68",
   "metadata": {},
   "source": [
    "### Gradient Boosting\n",
    "- Significantly improved performance with 98% accuracy and balanced f1-score\n",
    "- the model is able to perform similarly on leavers and non leavers\n",
    "- No sign of overfitting"
   ]
  },
  {
   "cell_type": "code",
   "execution_count": 481,
   "id": "16087907",
   "metadata": {},
   "outputs": [],
   "source": [
    "from sklearn.model_selection import GridSearchCV\n",
    "from sklearn.ensemble import RandomForestClassifier\n",
    "from sklearn.ensemble import GradientBoostingClassifier"
   ]
  },
  {
   "cell_type": "code",
   "execution_count": 482,
   "id": "de08d0a9",
   "metadata": {},
   "outputs": [
    {
     "data": {
      "text/plain": [
       "GradientBoostingClassifier()"
      ]
     },
     "execution_count": 482,
     "metadata": {},
     "output_type": "execute_result"
    }
   ],
   "source": [
    "xg = GradientBoostingClassifier()\n",
    "xg.fit(x_train, y_train)"
   ]
  },
  {
   "cell_type": "code",
   "execution_count": 483,
   "id": "d7184476",
   "metadata": {},
   "outputs": [
    {
     "name": "stdout",
     "output_type": "stream",
     "text": [
      "score on test: 0.9765333333333334\n",
      "score on train: 0.9759089696861943\n"
     ]
    }
   ],
   "source": [
    "print(\"score on test: \" + str(xg.score(x_test_normalized, y_test)))\n",
    "print(\"score on train: \"+ str(xg.score(x_train_normalized, y_train)))"
   ]
  },
  {
   "cell_type": "code",
   "execution_count": 484,
   "id": "94e86e31",
   "metadata": {},
   "outputs": [
    {
     "name": "stdout",
     "output_type": "stream",
     "text": [
      "Accuracy 97.65%\n",
      "\n",
      "              precision    recall  f1-score   support\n",
      "\n",
      "           0       0.98      0.99      0.98      2881\n",
      "           1       0.97      0.93      0.95       869\n",
      "\n",
      "    accuracy                           0.98      3750\n",
      "   macro avg       0.97      0.96      0.97      3750\n",
      "weighted avg       0.98      0.98      0.98      3750\n",
      "\n"
     ]
    },
    {
     "data": {
      "image/png": "[encoded data removed]",
      "text/plain": [
       "<Figure size 288x216 with 2 Axes>"
      ]
     },
     "metadata": {},
     "output_type": "display_data"
    }
   ],
   "source": [
    "predictions = xg.predict(x_test_normalized)\n",
    "\n",
    "print(\"Accuracy {0:.2f}%\".format(100*accuracy_score(predictions, y_test)))\n",
    "print()\n",
    "cm = confusion_matrix(y_true = y_test, y_pred = predictions, labels=[0, 1])\n",
    "display_confusion_matrix(cm)\n",
    "print(classification_report(y_test, predictions))"
   ]
  },
  {
   "cell_type": "markdown",
   "id": "0d848ec2",
   "metadata": {},
   "source": [
    "### Decision Tree\n",
    "- very strong performance with 98% accuracy\n",
    "- It seems to perform better than gradient boosting with less false negative (true leavers not detected) which is probably the most important issue. Indeed, a company would like to detect potential leavers and false negative could be quite detrimental\n",
    "- Sign of overfitting since we obtain a 100% accuracy on the train set"
   ]
  },
  {
   "cell_type": "code",
   "execution_count": 485,
   "id": "36902478",
   "metadata": {},
   "outputs": [
    {
     "name": "stdout",
     "output_type": "stream",
     "text": [
      "score on test: 0.9786666666666667\n",
      "score on train: 1.0\n"
     ]
    }
   ],
   "source": [
    "from sklearn.tree import DecisionTreeClassifier\n",
    "clf = DecisionTreeClassifier()\n",
    "clf.fit(x_train_normalized, y_train)\n",
    "print(\"score on test: \"  + str(clf.score(x_test_normalized, y_test)))\n",
    "print(\"score on train: \" + str(clf.score(x_train_normalized, y_train)))"
   ]
  },
  {
   "cell_type": "code",
   "execution_count": 486,
   "id": "9a811e10",
   "metadata": {},
   "outputs": [
    {
     "name": "stdout",
     "output_type": "stream",
     "text": [
      "Accuracy 97.87%\n",
      "\n",
      "              precision    recall  f1-score   support\n",
      "\n",
      "           0       0.99      0.98      0.99      2881\n",
      "           1       0.94      0.97      0.95       869\n",
      "\n",
      "    accuracy                           0.98      3750\n",
      "   macro avg       0.97      0.98      0.97      3750\n",
      "weighted avg       0.98      0.98      0.98      3750\n",
      "\n"
     ]
    },
    {
     "data": {
      "image/png": "[encoded data removed]",
      "text/plain": [
       "<Figure size 288x216 with 2 Axes>"
      ]
     },
     "metadata": {},
     "output_type": "display_data"
    }
   ],
   "source": [
    "predictions = clf.predict(x_test_normalized)\n",
    "\n",
    "print(\"Accuracy {0:.2f}%\".format(100*accuracy_score(predictions, y_test)))\n",
    "print()\n",
    "cm = confusion_matrix(y_true = y_test, y_pred = predictions, labels=[0, 1])\n",
    "display_confusion_matrix(cm)\n",
    "print(classification_report(y_test, predictions))"
   ]
  },
  {
   "cell_type": "markdown",
   "id": "760c74eb",
   "metadata": {},
   "source": [
    "### Bagging Decision Tree\n",
    "- Improved version from simple Decision Tree using an Ensemble approach with reduced overfitting\n",
    "- very strong performance slightly above Gradient Boosting (less false negative, false positive)"
   ]
  },
  {
   "cell_type": "code",
   "execution_count": 492,
   "id": "238cfd58",
   "metadata": {},
   "outputs": [
    {
     "name": "stdout",
     "output_type": "stream",
     "text": [
      "score on test: 0.9826666666666667\n",
      "score on train: 0.99164370166237\n"
     ]
    }
   ],
   "source": [
    "from sklearn.ensemble import BaggingClassifier\n",
    "from sklearn.tree import DecisionTreeClassifier\n",
    "# max_samples: maximum size 0.5=50% of each sample taken from the full dataset\n",
    "# max_features: maximum of features 1=100% taken here all 10K \n",
    "# n_estimators: number of decision trees \n",
    "bg = BaggingClassifier(DecisionTreeClassifier(),max_samples=0.5,max_features=1.0,n_estimators=10)\n",
    "bg.fit(x_train_normalized, y_train)\n",
    "print(\"score on test: \" + str(bg.score(x_test_normalized, y_test)))\n",
    "print(\"score on train: \"+ str(bg.score(x_train_normalized, y_train)))"
   ]
  },
  {
   "cell_type": "code",
   "execution_count": 493,
   "id": "2d95e75f",
   "metadata": {},
   "outputs": [
    {
     "name": "stdout",
     "output_type": "stream",
     "text": [
      "Accuracy 98.27%\n",
      "              precision    recall  f1-score   support\n",
      "\n",
      "           0       0.98      0.99      0.99      2881\n",
      "           1       0.98      0.94      0.96       869\n",
      "\n",
      "    accuracy                           0.98      3750\n",
      "   macro avg       0.98      0.97      0.98      3750\n",
      "weighted avg       0.98      0.98      0.98      3750\n",
      "\n"
     ]
    },
    {
     "data": {
      "image/png": "[encoded data removed]",
      "text/plain": [
       "<Figure size 288x216 with 2 Axes>"
      ]
     },
     "metadata": {},
     "output_type": "display_data"
    }
   ],
   "source": [
    "predictions = bg.predict(x_test_normalized)\n",
    "\n",
    "print(\"Accuracy {0:.2f}%\".format(100*accuracy_score(predictions, y_test)))\n",
    "cm = confusion_matrix(y_true = y_test, y_pred = predictions, labels=[0, 1])\n",
    "display_confusion_matrix(cm)\n",
    "print(classification_report(y_test, predictions))"
   ]
  },
  {
   "cell_type": "markdown",
   "id": "a3ffaff0",
   "metadata": {},
   "source": [
    "### AdaBoost\n",
    "- not showing real benefit over previous best models (Gradient Boosting and Bagging Decision Tree)"
   ]
  },
  {
   "cell_type": "code",
   "execution_count": 495,
   "id": "123ad612",
   "metadata": {},
   "outputs": [
    {
     "name": "stdout",
     "output_type": "stream",
     "text": [
      "score on test: 0.976\n",
      "score on train: 0.9783980798293181\n"
     ]
    }
   ],
   "source": [
    "from sklearn.ensemble import AdaBoostClassifier\n",
    "from sklearn.tree import DecisionTreeClassifier\n",
    "adb = AdaBoostClassifier(DecisionTreeClassifier(min_samples_split=10,max_depth=4),n_estimators=10,learning_rate=0.6)\n",
    "adb.fit(x_train_normalized, y_train)\n",
    "print(\"score on test: \" + str(adb.score(x_test_normalized, y_test)))\n",
    "print(\"score on train: \"+ str(adb.score(x_train_normalized, y_train)))"
   ]
  },
  {
   "cell_type": "code",
   "execution_count": 496,
   "id": "30a0096f",
   "metadata": {},
   "outputs": [
    {
     "name": "stdout",
     "output_type": "stream",
     "text": [
      "Accuracy 97.60%\n",
      "\n",
      "              precision    recall  f1-score   support\n",
      "\n",
      "           0       0.98      0.99      0.98      2881\n",
      "           1       0.97      0.93      0.95       869\n",
      "\n",
      "    accuracy                           0.98      3750\n",
      "   macro avg       0.97      0.96      0.97      3750\n",
      "weighted avg       0.98      0.98      0.98      3750\n",
      "\n"
     ]
    },
    {
     "data": {
      "image/png": "[encoded data removed]",
      "text/plain": [
       "<Figure size 288x216 with 2 Axes>"
      ]
     },
     "metadata": {},
     "output_type": "display_data"
    }
   ],
   "source": [
    "predictions = adb.predict(x_test_normalized)\n",
    "\n",
    "print(\"Accuracy {0:.2f}%\".format(100*accuracy_score(predictions, y_test)))\n",
    "print()\n",
    "cm = confusion_matrix(y_true = y_test, y_pred = predictions, labels=[0, 1])\n",
    "display_confusion_matrix(cm)\n",
    "print(classification_report(y_test, predictions))"
   ]
  },
  {
   "cell_type": "markdown",
   "id": "3e2598ba",
   "metadata": {},
   "source": [
    "### Random Forest\n",
    "- the level of false negative is increasing. This can be problematic"
   ]
  },
  {
   "cell_type": "code",
   "execution_count": 497,
   "id": "de242e8d",
   "metadata": {},
   "outputs": [
    {
     "name": "stdout",
     "output_type": "stream",
     "text": [
      "score on test: 0.9770666666666666\n",
      "score on train: 0.9794648413192284\n"
     ]
    }
   ],
   "source": [
    "from sklearn.ensemble import RandomForestClassifier\n",
    "# n_estimators = number of decision trees\n",
    "rf = RandomForestClassifier(n_estimators=30, max_depth=9)\n",
    "rf.fit(x_train_normalized, y_train)\n",
    "print(\"score on test: \" + str(rf.score(x_test_normalized, y_test)))\n",
    "print(\"score on train: \"+ str(rf.score(x_train_normalized, y_train)))"
   ]
  },
  {
   "cell_type": "code",
   "execution_count": 499,
   "id": "4a21fd61",
   "metadata": {},
   "outputs": [
    {
     "name": "stdout",
     "output_type": "stream",
     "text": [
      "Accuracy 97.71%\n",
      "\n",
      "              precision    recall  f1-score   support\n",
      "\n",
      "           0       0.98      0.99      0.99      2881\n",
      "           1       0.98      0.92      0.95       869\n",
      "\n",
      "    accuracy                           0.98      3750\n",
      "   macro avg       0.98      0.96      0.97      3750\n",
      "weighted avg       0.98      0.98      0.98      3750\n",
      "\n"
     ]
    },
    {
     "data": {
      "image/png": "[encoded data removed]",
      "text/plain": [
       "<Figure size 288x216 with 2 Axes>"
      ]
     },
     "metadata": {},
     "output_type": "display_data"
    }
   ],
   "source": [
    "predictions = rf.predict(x_test_normalized)\n",
    "\n",
    "print(\"Accuracy {0:.2f}%\".format(100*accuracy_score(predictions, y_test)))\n",
    "print()\n",
    "cm = confusion_matrix(y_true = y_test, y_pred = predictions, labels=[0, 1])\n",
    "display_confusion_matrix(cm)\n",
    "print(classification_report(y_test, predictions))"
   ]
  },
  {
   "cell_type": "markdown",
   "id": "849eceb8",
   "metadata": {},
   "source": [
    "### XGBoost\n",
    "- https://www.analyticsvidhya.com/blog/2016/03/complete-guide-parameter-tuning-xgboost-with-codes-python/\n",
    "- https://towardsdatascience.com/getting-started-with-xgboost-in-scikit-learn-f69f5f470a97\n",
    "- Best performance achieved so far with 99% accuracy\n",
    "- Recall and precision quite even with strong performance on false negative"
   ]
  },
  {
   "cell_type": "code",
   "execution_count": 500,
   "id": "d3c977d6",
   "metadata": {},
   "outputs": [
    {
     "name": "stdout",
     "output_type": "stream",
     "text": [
      "1.4.2\n",
      "[10:10:53] WARNING: D:\\bld\\xgboost-split_1631904903843\\work\\src\\learner.cc:1095: Starting in XGBoost 1.3.0, the default evaluation metric used with the objective 'binary:logistic' was changed from 'error' to 'logloss'. Explicitly set eval_metric if you'd like to restore the old behavior.\n",
      "[10:10:53] WARNING: D:\\bld\\xgboost-split_1631904903843\\work\\src\\learner.cc:1095: Starting in XGBoost 1.3.0, the default evaluation metric used with the objective 'binary:logistic' was changed from 'error' to 'logloss'. Explicitly set eval_metric if you'd like to restore the old behavior.\n",
      "[10:10:54] WARNING: D:\\bld\\xgboost-split_1631904903843\\work\\src\\learner.cc:1095: Starting in XGBoost 1.3.0, the default evaluation metric used with the objective 'binary:logistic' was changed from 'error' to 'logloss'. Explicitly set eval_metric if you'd like to restore the old behavior.\n",
      "[10:10:54] WARNING: D:\\bld\\xgboost-split_1631904903843\\work\\src\\learner.cc:1095: Starting in XGBoost 1.3.0, the default evaluation metric used with the objective 'binary:logistic' was changed from 'error' to 'logloss'. Explicitly set eval_metric if you'd like to restore the old behavior.\n",
      "[10:10:54] WARNING: D:\\bld\\xgboost-split_1631904903843\\work\\src\\learner.cc:1095: Starting in XGBoost 1.3.0, the default evaluation metric used with the objective 'binary:logistic' was changed from 'error' to 'logloss'. Explicitly set eval_metric if you'd like to restore the old behavior.\n"
     ]
    },
    {
     "data": {
      "text/plain": [
       "array([0.98311111, 0.98711111, 0.98711111, 0.98666667, 0.98399289])"
      ]
     },
     "execution_count": 500,
     "metadata": {},
     "output_type": "execute_result"
    }
   ],
   "source": [
    "import xgboost; print(xgboost.__version__)\n",
    "#from xgboost import XGBRegressor                           # for prediction\n",
    "from xgboost import XGBClassifier                           # for classification  - sklearn wrapper for XGBoost\n",
    "from xgboost import plot_importance\n",
    "from sklearn.model_selection import cross_val_score\n",
    "cross_val_score(XGBClassifier(use_label_encoder=False), x_train_normalized, y_train)"
   ]
  },
  {
   "cell_type": "code",
   "execution_count": 502,
   "id": "c059d6fd",
   "metadata": {},
   "outputs": [
    {
     "name": "stdout",
     "output_type": "stream",
     "text": [
      "[10:12:03] WARNING: D:\\bld\\xgboost-split_1631904903843\\work\\src\\learner.cc:1095: Starting in XGBoost 1.3.0, the default evaluation metric used with the objective 'binary:logistic' was changed from 'error' to 'logloss'. Explicitly set eval_metric if you'd like to restore the old behavior.\n",
      "Accuracy 98.83%\n",
      "\n",
      "              precision    recall  f1-score   support\n",
      "\n",
      "           0       0.99      0.99      0.99      2881\n",
      "           1       0.98      0.97      0.97       869\n",
      "\n",
      "    accuracy                           0.99      3750\n",
      "   macro avg       0.99      0.98      0.98      3750\n",
      "weighted avg       0.99      0.99      0.99      3750\n",
      "\n"
     ]
    },
    {
     "data": {
      "image/png": "[encoded data removed]",
      "text/plain": [
       "<Figure size 288x216 with 2 Axes>"
      ]
     },
     "metadata": {},
     "output_type": "display_data"
    }
   ],
   "source": [
    "xgb = XGBClassifier(use_label_encoder=False)\n",
    "xgb.fit(x_train_normalized, y_train, ) #eval_metric='auc'\n",
    "\n",
    "predictions = xgb.predict(x_test_normalized)\n",
    "\n",
    "print(\"Accuracy {0:.2f}%\".format(100*accuracy_score(predictions, y_test)))\n",
    "print()\n",
    "cm = confusion_matrix(y_true = y_test, y_pred = predictions, labels=[0, 1])\n",
    "display_confusion_matrix(cm)\n",
    "print(classification_report(y_test, predictions))"
   ]
  },
  {
   "cell_type": "markdown",
   "id": "79bcbdda",
   "metadata": {},
   "source": [
    "### XGBoost most important features"
   ]
  },
  {
   "cell_type": "code",
   "execution_count": 507,
   "id": "e351a89b",
   "metadata": {},
   "outputs": [],
   "source": [
    "from sklearn import metrics   #Additional scklearn functions\n",
    "from sklearn.model_selection import GridSearchCV   #Perforing grid search\n",
    "\n",
    "def modelfit(alg, x, y, useTrainCV=True, cv_folds=5, early_stopping_rounds=50):\n",
    "    \n",
    "    ''' if useTrainCV:\n",
    "        xgb_param = alg.get_xgb_params()\n",
    "        xgtrain = xgb.DMatrix(x, label=y)\n",
    "        cvresult = xgb.cv(xgb_param, xgtrain, num_boost_round=alg.get_params()['n_estimators'], nfold=cv_folds,\n",
    "            metrics='auc', early_stopping_rounds=early_stopping_rounds, show_progress=False)\n",
    "        alg.set_params(n_estimators=cvresult.shape[0])'''\n",
    "    \n",
    "    #Fit the algorithm on the data\n",
    "    alg.fit(x, y, eval_metric='auc')\n",
    "        \n",
    "    #Predict training set:\n",
    "    predictions = alg.predict(x)\n",
    "    predprob = alg.predict_proba(x)[:,1]\n",
    "        \n",
    "    #Print model report:\n",
    "    print (\"\\nModel Report\")\n",
    "    print (\"Accuracy : %.4g\" % metrics.accuracy_score(y, predictions))\n",
    "    print (\"AUC Score (Train): %f\" % metrics.roc_auc_score(y, predprob))\n",
    "                    \n",
    "    feat_imp = pd.Series(alg.get_booster().get_fscore()).sort_values(ascending=False)\n",
    "    features_by_importance = feat_imp.index.values\n",
    "    feat_imp.plot(kind='bar', title='Feature Importances')\n",
    "    plt.ylabel('Feature Importance Score')\n",
    "    \n",
    "    return alg, features_by_importance"
   ]
  },
  {
   "cell_type": "code",
   "execution_count": 508,
   "id": "773d8b84",
   "metadata": {},
   "outputs": [
    {
     "name": "stdout",
     "output_type": "stream",
     "text": [
      "\n",
      "Model Report\n",
      "Accuracy : 1\n",
      "AUC Score (Train): 1.000000\n"
     ]
    },
    {
     "data": {
      "image/png": "[encoded data removed]",
      "text/plain": [
       "<Figure size 432x288 with 1 Axes>"
      ]
     },
     "metadata": {},
     "output_type": "display_data"
    }
   ],
   "source": [
    "xgb  = XGBClassifier(   learning_rate =0.1,\n",
    "                         n_estimators=1000,\n",
    "                         max_depth=5,\n",
    "                         min_child_weight=1,\n",
    "                         gamma=0,\n",
    "                         subsample=0.8,\n",
    "                         colsample_bytree=0.8,\n",
    "                         objective= 'binary:logistic',\n",
    "                         nthread=4,\n",
    "                         scale_pos_weight=1,\n",
    "                         seed=27,\n",
    "                         use_label_encoder=False)\n",
    "\n",
    "xgb, features_by_importance = modelfit(xgb, x_train_normalized, y_train)"
   ]
  },
  {
   "cell_type": "markdown",
   "id": "f38d51d7",
   "metadata": {},
   "source": [
    "### MOST IMPORTANT FEATURES FOR LEAVERS DETERMINATION\n",
    "- average hours (complemented by number of projects) which is a proxy of the workload\n",
    "- satisfaction level comes second\n",
    "- performance evaluation is the top 3 driver\n",
    "\n",
    "These are consistent with our observations whenn looking at the corelations earlier.\n",
    "These are specific to the dataset and can obviously be enriched using additional features"
   ]
  },
  {
   "cell_type": "code",
   "execution_count": 509,
   "id": "1eca1d0e",
   "metadata": {},
   "outputs": [
    {
     "data": {
      "text/plain": [
       "<AxesSubplot:title={'center':'Feature importance'}, xlabel='F score', ylabel='Features'>"
      ]
     },
     "execution_count": 509,
     "metadata": {},
     "output_type": "execute_result"
    },
    {
     "data": {
      "image/png": "[encoded data removed]",
      "text/plain": [
       "<Figure size 432x288 with 1 Axes>"
      ]
     },
     "metadata": {},
     "output_type": "display_data"
    }
   ],
   "source": [
    "plot_importance(xgb, max_num_features = 15)"
   ]
  },
  {
   "cell_type": "code",
   "execution_count": 279,
   "id": "bdc4ec56",
   "metadata": {},
   "outputs": [
    {
     "data": {
      "text/plain": [
       "array([ 2,  5,  0,  6,  1,  3,  4, 16, 12,  8, 15,  9, 10, 17, 14,  7, 13,\n",
       "       11], dtype=int64)"
      ]
     },
     "execution_count": 279,
     "metadata": {},
     "output_type": "execute_result"
    }
   ],
   "source": [
    "sorted_idx = np.argsort(xgb.feature_importances_)[::-1]   # xgb.feature_importances_ IS BROKEN\n",
    "sorted_idx"
   ]
  },
  {
   "cell_type": "code",
   "execution_count": 285,
   "id": "1725c5cf",
   "metadata": {},
   "outputs": [
    {
     "data": {
      "text/plain": [
       "{'satisfaction_level': 5.9288683689214245,\n",
       " 'number_project': 4.972303019753393,\n",
       " 'last_evaluation': 2.0947981481518383,\n",
       " 'average_montly_hours': 2.0674754660660075,\n",
       " 'department_technical': 0.8658375245616385,\n",
       " 'time_spend_company': 8.830256625109834,\n",
       " 'department_support': 0.7397918982633335,\n",
       " 'department_accounting': 0.8707307551277103,\n",
       " 'salary_medium': 0.7516609552898439,\n",
       " 'salary_low': 0.9227953438602563,\n",
       " 'department_product_mng': 0.9222774568254545,\n",
       " 'department_RandD': 0.7227057159772151,\n",
       " 'department_sales': 0.6529109205411289,\n",
       " 'Work_accident': 1.9541965496397247,\n",
       " 'department_hr': 0.7547065027133334,\n",
       " 'department_management': 0.7521275282539999,\n",
       " 'department_marketing': 0.339062974940845,\n",
       " 'promotion_last_5years': 1.337980698642857}"
      ]
     },
     "execution_count": 285,
     "metadata": {},
     "output_type": "execute_result"
    }
   ],
   "source": [
    "xgb.get_booster().get_score(importance_type=\"gain\")  # other type: 'gain'"
   ]
  },
  {
   "cell_type": "code",
   "execution_count": 511,
   "id": "14022ffc",
   "metadata": {},
   "outputs": [
    {
     "name": "stdout",
     "output_type": "stream",
     "text": [
      "Accuracy 98.80%\n",
      "\n",
      "              precision    recall  f1-score   support\n",
      "\n",
      "           0       0.99      0.99      0.99      2881\n",
      "           1       0.98      0.97      0.97       869\n",
      "\n",
      "    accuracy                           0.99      3750\n",
      "   macro avg       0.98      0.98      0.98      3750\n",
      "weighted avg       0.99      0.99      0.99      3750\n",
      "\n"
     ]
    },
    {
     "data": {
      "image/png": "[encoded data removed]",
      "text/plain": [
       "<Figure size 288x216 with 2 Axes>"
      ]
     },
     "metadata": {},
     "output_type": "display_data"
    }
   ],
   "source": [
    "predictions = xgb.predict(x_test_normalized)\n",
    "\n",
    "print(\"Accuracy {0:.2f}%\".format(100*accuracy_score(predictions, y_test)))\n",
    "print()\n",
    "cm = confusion_matrix(y_true = y_test, y_pred = predictions, labels=[0, 1])\n",
    "display_confusion_matrix(cm)\n",
    "print(classification_report(y_test, predictions))"
   ]
  },
  {
   "cell_type": "code",
   "execution_count": 113,
   "id": "9fdb7312",
   "metadata": {},
   "outputs": [
    {
     "data": {
      "text/plain": [
       "['_Booster',\n",
       " '__class__',\n",
       " '__delattr__',\n",
       " '__dict__',\n",
       " '__dir__',\n",
       " '__doc__',\n",
       " '__eq__',\n",
       " '__format__',\n",
       " '__ge__',\n",
       " '__getattribute__',\n",
       " '__getstate__',\n",
       " '__gt__',\n",
       " '__hash__',\n",
       " '__init__',\n",
       " '__init_subclass__',\n",
       " '__le__',\n",
       " '__lt__',\n",
       " '__module__',\n",
       " '__ne__',\n",
       " '__new__',\n",
       " '__reduce__',\n",
       " '__reduce_ex__',\n",
       " '__repr__',\n",
       " '__setattr__',\n",
       " '__setstate__',\n",
       " '__sizeof__',\n",
       " '__str__',\n",
       " '__subclasshook__',\n",
       " '__weakref__',\n",
       " '_can_use_inplace_predict',\n",
       " '_check_n_features',\n",
       " '_configure_fit',\n",
       " '_early_stopping_attr',\n",
       " '_estimator_type',\n",
       " '_get_iteration_range',\n",
       " '_get_param_names',\n",
       " '_get_tags',\n",
       " '_get_type',\n",
       " '_le',\n",
       " '_more_tags',\n",
       " '_repr_html_',\n",
       " '_repr_html_inner',\n",
       " '_repr_mimebundle_',\n",
       " '_set_evaluation_result',\n",
       " '_validate_data',\n",
       " 'apply',\n",
       " 'base_score',\n",
       " 'best_iteration',\n",
       " 'best_ntree_limit',\n",
       " 'best_score',\n",
       " 'booster',\n",
       " 'classes_',\n",
       " 'coef_',\n",
       " 'colsample_bylevel',\n",
       " 'colsample_bynode',\n",
       " 'colsample_bytree',\n",
       " 'evals_result',\n",
       " 'feature_importances_',\n",
       " 'fit',\n",
       " 'gamma',\n",
       " 'get_booster',\n",
       " 'get_num_boosting_rounds',\n",
       " 'get_params',\n",
       " 'get_xgb_params',\n",
       " 'gpu_id',\n",
       " 'importance_type',\n",
       " 'interaction_constraints',\n",
       " 'intercept_',\n",
       " 'kwargs',\n",
       " 'learning_rate',\n",
       " 'load_model',\n",
       " 'max_delta_step',\n",
       " 'max_depth',\n",
       " 'min_child_weight',\n",
       " 'missing',\n",
       " 'monotone_constraints',\n",
       " 'n_classes_',\n",
       " 'n_estimators',\n",
       " 'n_features_in_',\n",
       " 'n_jobs',\n",
       " 'num_parallel_tree',\n",
       " 'objective',\n",
       " 'predict',\n",
       " 'predict_proba',\n",
       " 'random_state',\n",
       " 'reg_alpha',\n",
       " 'reg_lambda',\n",
       " 'save_model',\n",
       " 'scale_pos_weight',\n",
       " 'score',\n",
       " 'set_params',\n",
       " 'subsample',\n",
       " 'tree_method',\n",
       " 'use_label_encoder',\n",
       " 'validate_parameters',\n",
       " 'verbosity']"
      ]
     },
     "execution_count": 113,
     "metadata": {},
     "output_type": "execute_result"
    }
   ],
   "source": [
    "dir(xgb)"
   ]
  },
  {
   "cell_type": "code",
   "execution_count": 513,
   "id": "cb816248",
   "metadata": {},
   "outputs": [
    {
     "data": {
      "text/html": [
       "        <script type=\"text/javascript\">\n",
       "        window.PlotlyConfig = {MathJaxConfig: 'local'};\n",
       "        if (window.MathJax) {MathJax.Hub.Config({SVG: {font: \"STIX-Web\"}});}\n",
       "        if (typeof require !== 'undefined') {\n",
       "        require.undef(\"plotly\");\n",
       "        requirejs.config({\n",
       "            paths: {\n",
       "                'plotly': ['https://cdn.plot.ly/plotly-latest.min']\n",
       "            }\n",
       "        });\n",
       "        require(['plotly'], function(Plotly) {\n",
       "            window._Plotly = Plotly;\n",
       "        });\n",
       "        }\n",
       "        </script>\n",
       "        "
      ]
     },
     "metadata": {},
     "output_type": "display_data"
    }
   ],
   "source": [
    "import plotly\n",
    "import plotly.graph_objects as go\n",
    "import plotly.offline as py\n",
    "py.init_notebook_mode(connected=True)"
   ]
  },
  {
   "cell_type": "code",
   "execution_count": 515,
   "id": "d12ec937",
   "metadata": {},
   "outputs": [
    {
     "data": {
      "application/vnd.plotly.v1+json": {
       "config": {
        "linkText": "Export to plot.ly",
        "plotlyServerURL": "https://plot.ly",
        "showLink": false
       },
       "data": [
        {
         "marker": {
          "color": [
           3884,
           1386,
           3488,
           4477,
           297,
           1276,
           81,
           353,
           401,
           123,
           245,
           137,
           18,
           346,
           62,
           47,
           50,
           54
          ],
          "colorscale": [
           [
            0,
            "rgb(12,51,131)"
           ],
           [
            0.25,
            "rgb(10,136,186)"
           ],
           [
            0.5,
            "rgb(242,211,56)"
           ],
           [
            0.75,
            "rgb(242,143,56)"
           ],
           [
            1,
            "rgb(217,30,30)"
           ]
          ],
          "showscale": true,
          "size": 13,
          "sizemode": "diameter",
          "sizeref": 1
         },
         "mode": "markers",
         "type": "scatter",
         "x": [
          "average_montly_hours",
          "satisfaction_level",
          "last_evaluation",
          "number_project",
          "time_spend_company",
          "salary_low",
          "department_sales",
          "salary_medium",
          "department_technical",
          "department_support",
          "Work_accident",
          "department_hr",
          "department_accounting",
          "department_RandD",
          "department_marketing",
          "department_product_mng",
          "department_management",
          "promotion_last_5years"
         ],
         "y": [
          3884,
          1386,
          3488,
          4477,
          297,
          1276,
          81,
          353,
          401,
          123,
          245,
          137,
          18,
          346,
          62,
          47,
          50,
          54
         ]
        }
       ],
       "layout": {
        "autosize": true,
        "hovermode": "closest",
        "showlegend": false,
        "template": {
         "data": {
          "bar": [
           {
            "error_x": {
             "color": "#2a3f5f"
            },
            "error_y": {
             "color": "#2a3f5f"
            },
            "marker": {
             "line": {
              "color": "#E5ECF6",
              "width": 0.5
             }
            },
            "type": "bar"
           }
          ],
          "barpolar": [
           {
            "marker": {
             "line": {
              "color": "#E5ECF6",
              "width": 0.5
             }
            },
            "type": "barpolar"
           }
          ],
          "carpet": [
           {
            "aaxis": {
             "endlinecolor": "#2a3f5f",
             "gridcolor": "white",
             "linecolor": "white",
             "minorgridcolor": "white",
             "startlinecolor": "#2a3f5f"
            },
            "baxis": {
             "endlinecolor": "#2a3f5f",
             "gridcolor": "white",
             "linecolor": "white",
             "minorgridcolor": "white",
             "startlinecolor": "#2a3f5f"
            },
            "type": "carpet"
           }
          ],
          "choropleth": [
           {
            "colorbar": {
             "outlinewidth": 0,
             "ticks": ""
            },
            "type": "choropleth"
           }
          ],
          "contour": [
           {
            "colorbar": {
             "outlinewidth": 0,
             "ticks": ""
            },
            "colorscale": [
             [
              0,
              "#0d0887"
             ],
             [
              0.1111111111111111,
              "#46039f"
             ],
             [
              0.2222222222222222,
              "#7201a8"
             ],
             [
              0.3333333333333333,
              "#9c179e"
             ],
             [
              0.4444444444444444,
              "#bd3786"
             ],
             [
              0.5555555555555556,
              "#d8576b"
             ],
             [
              0.6666666666666666,
              "#ed7953"
             ],
             [
              0.7777777777777778,
              "#fb9f3a"
             ],
             [
              0.8888888888888888,
              "#fdca26"
             ],
             [
              1,
              "#f0f921"
             ]
            ],
            "type": "contour"
           }
          ],
          "contourcarpet": [
           {
            "colorbar": {
             "outlinewidth": 0,
             "ticks": ""
            },
            "type": "contourcarpet"
           }
          ],
          "heatmap": [
           {
            "colorbar": {
             "outlinewidth": 0,
             "ticks": ""
            },
            "colorscale": [
             [
              0,
              "#0d0887"
             ],
             [
              0.1111111111111111,
              "#46039f"
             ],
             [
              0.2222222222222222,
              "#7201a8"
             ],
             [
              0.3333333333333333,
              "#9c179e"
             ],
             [
              0.4444444444444444,
              "#bd3786"
             ],
             [
              0.5555555555555556,
              "#d8576b"
             ],
             [
              0.6666666666666666,
              "#ed7953"
             ],
             [
              0.7777777777777778,
              "#fb9f3a"
             ],
             [
              0.8888888888888888,
              "#fdca26"
             ],
             [
              1,
              "#f0f921"
             ]
            ],
            "type": "heatmap"
           }
          ],
          "heatmapgl": [
           {
            "colorbar": {
             "outlinewidth": 0,
             "ticks": ""
            },
            "colorscale": [
             [
              0,
              "#0d0887"
             ],
             [
              0.1111111111111111,
              "#46039f"
             ],
             [
              0.2222222222222222,
              "#7201a8"
             ],
             [
              0.3333333333333333,
              "#9c179e"
             ],
             [
              0.4444444444444444,
              "#bd3786"
             ],
             [
              0.5555555555555556,
              "#d8576b"
             ],
             [
              0.6666666666666666,
              "#ed7953"
             ],
             [
              0.7777777777777778,
              "#fb9f3a"
             ],
             [
              0.8888888888888888,
              "#fdca26"
             ],
             [
              1,
              "#f0f921"
             ]
            ],
            "type": "heatmapgl"
           }
          ],
          "histogram": [
           {
            "marker": {
             "colorbar": {
              "outlinewidth": 0,
              "ticks": ""
             }
            },
            "type": "histogram"
           }
          ],
          "histogram2d": [
           {
            "colorbar": {
             "outlinewidth": 0,
             "ticks": ""
            },
            "colorscale": [
             [
              0,
              "#0d0887"
             ],
             [
              0.1111111111111111,
              "#46039f"
             ],
             [
              0.2222222222222222,
              "#7201a8"
             ],
             [
              0.3333333333333333,
              "#9c179e"
             ],
             [
              0.4444444444444444,
              "#bd3786"
             ],
             [
              0.5555555555555556,
              "#d8576b"
             ],
             [
              0.6666666666666666,
              "#ed7953"
             ],
             [
              0.7777777777777778,
              "#fb9f3a"
             ],
             [
              0.8888888888888888,
              "#fdca26"
             ],
             [
              1,
              "#f0f921"
             ]
            ],
            "type": "histogram2d"
           }
          ],
          "histogram2dcontour": [
           {
            "colorbar": {
             "outlinewidth": 0,
             "ticks": ""
            },
            "colorscale": [
             [
              0,
              "#0d0887"
             ],
             [
              0.1111111111111111,
              "#46039f"
             ],
             [
              0.2222222222222222,
              "#7201a8"
             ],
             [
              0.3333333333333333,
              "#9c179e"
             ],
             [
              0.4444444444444444,
              "#bd3786"
             ],
             [
              0.5555555555555556,
              "#d8576b"
             ],
             [
              0.6666666666666666,
              "#ed7953"
             ],
             [
              0.7777777777777778,
              "#fb9f3a"
             ],
             [
              0.8888888888888888,
              "#fdca26"
             ],
             [
              1,
              "#f0f921"
             ]
            ],
            "type": "histogram2dcontour"
           }
          ],
          "mesh3d": [
           {
            "colorbar": {
             "outlinewidth": 0,
             "ticks": ""
            },
            "type": "mesh3d"
           }
          ],
          "parcoords": [
           {
            "line": {
             "colorbar": {
              "outlinewidth": 0,
              "ticks": ""
             }
            },
            "type": "parcoords"
           }
          ],
          "pie": [
           {
            "automargin": true,
            "type": "pie"
           }
          ],
          "scatter": [
           {
            "marker": {
             "colorbar": {
              "outlinewidth": 0,
              "ticks": ""
             }
            },
            "type": "scatter"
           }
          ],
          "scatter3d": [
           {
            "line": {
             "colorbar": {
              "outlinewidth": 0,
              "ticks": ""
             }
            },
            "marker": {
             "colorbar": {
              "outlinewidth": 0,
              "ticks": ""
             }
            },
            "type": "scatter3d"
           }
          ],
          "scattercarpet": [
           {
            "marker": {
             "colorbar": {
              "outlinewidth": 0,
              "ticks": ""
             }
            },
            "type": "scattercarpet"
           }
          ],
          "scattergeo": [
           {
            "marker": {
             "colorbar": {
              "outlinewidth": 0,
              "ticks": ""
             }
            },
            "type": "scattergeo"
           }
          ],
          "scattergl": [
           {
            "marker": {
             "colorbar": {
              "outlinewidth": 0,
              "ticks": ""
             }
            },
            "type": "scattergl"
           }
          ],
          "scattermapbox": [
           {
            "marker": {
             "colorbar": {
              "outlinewidth": 0,
              "ticks": ""
             }
            },
            "type": "scattermapbox"
           }
          ],
          "scatterpolar": [
           {
            "marker": {
             "colorbar": {
              "outlinewidth": 0,
              "ticks": ""
             }
            },
            "type": "scatterpolar"
           }
          ],
          "scatterpolargl": [
           {
            "marker": {
             "colorbar": {
              "outlinewidth": 0,
              "ticks": ""
             }
            },
            "type": "scatterpolargl"
           }
          ],
          "scatterternary": [
           {
            "marker": {
             "colorbar": {
              "outlinewidth": 0,
              "ticks": ""
             }
            },
            "type": "scatterternary"
           }
          ],
          "surface": [
           {
            "colorbar": {
             "outlinewidth": 0,
             "ticks": ""
            },
            "colorscale": [
             [
              0,
              "#0d0887"
             ],
             [
              0.1111111111111111,
              "#46039f"
             ],
             [
              0.2222222222222222,
              "#7201a8"
             ],
             [
              0.3333333333333333,
              "#9c179e"
             ],
             [
              0.4444444444444444,
              "#bd3786"
             ],
             [
              0.5555555555555556,
              "#d8576b"
             ],
             [
              0.6666666666666666,
              "#ed7953"
             ],
             [
              0.7777777777777778,
              "#fb9f3a"
             ],
             [
              0.8888888888888888,
              "#fdca26"
             ],
             [
              1,
              "#f0f921"
             ]
            ],
            "type": "surface"
           }
          ],
          "table": [
           {
            "cells": {
             "fill": {
              "color": "#EBF0F8"
             },
             "line": {
              "color": "white"
             }
            },
            "header": {
             "fill": {
              "color": "#C8D4E3"
             },
             "line": {
              "color": "white"
             }
            },
            "type": "table"
           }
          ]
         },
         "layout": {
          "annotationdefaults": {
           "arrowcolor": "#2a3f5f",
           "arrowhead": 0,
           "arrowwidth": 1
          },
          "autotypenumbers": "strict",
          "coloraxis": {
           "colorbar": {
            "outlinewidth": 0,
            "ticks": ""
           }
          },
          "colorscale": {
           "diverging": [
            [
             0,
             "#8e0152"
            ],
            [
             0.1,
             "#c51b7d"
            ],
            [
             0.2,
             "#de77ae"
            ],
            [
             0.3,
             "#f1b6da"
            ],
            [
             0.4,
             "#fde0ef"
            ],
            [
             0.5,
             "#f7f7f7"
            ],
            [
             0.6,
             "#e6f5d0"
            ],
            [
             0.7,
             "#b8e186"
            ],
            [
             0.8,
             "#7fbc41"
            ],
            [
             0.9,
             "#4d9221"
            ],
            [
             1,
             "#276419"
            ]
           ],
           "sequential": [
            [
             0,
             "#0d0887"
            ],
            [
             0.1111111111111111,
             "#46039f"
            ],
            [
             0.2222222222222222,
             "#7201a8"
            ],
            [
             0.3333333333333333,
             "#9c179e"
            ],
            [
             0.4444444444444444,
             "#bd3786"
            ],
            [
             0.5555555555555556,
             "#d8576b"
            ],
            [
             0.6666666666666666,
             "#ed7953"
            ],
            [
             0.7777777777777778,
             "#fb9f3a"
            ],
            [
             0.8888888888888888,
             "#fdca26"
            ],
            [
             1,
             "#f0f921"
            ]
           ],
           "sequentialminus": [
            [
             0,
             "#0d0887"
            ],
            [
             0.1111111111111111,
             "#46039f"
            ],
            [
             0.2222222222222222,
             "#7201a8"
            ],
            [
             0.3333333333333333,
             "#9c179e"
            ],
            [
             0.4444444444444444,
             "#bd3786"
            ],
            [
             0.5555555555555556,
             "#d8576b"
            ],
            [
             0.6666666666666666,
             "#ed7953"
            ],
            [
             0.7777777777777778,
             "#fb9f3a"
            ],
            [
             0.8888888888888888,
             "#fdca26"
            ],
            [
             1,
             "#f0f921"
            ]
           ]
          },
          "colorway": [
           "#636efa",
           "#EF553B",
           "#00cc96",
           "#ab63fa",
           "#FFA15A",
           "#19d3f3",
           "#FF6692",
           "#B6E880",
           "#FF97FF",
           "#FECB52"
          ],
          "font": {
           "color": "#2a3f5f"
          },
          "geo": {
           "bgcolor": "white",
           "lakecolor": "white",
           "landcolor": "#E5ECF6",
           "showlakes": true,
           "showland": true,
           "subunitcolor": "white"
          },
          "hoverlabel": {
           "align": "left"
          },
          "hovermode": "closest",
          "mapbox": {
           "style": "light"
          },
          "paper_bgcolor": "white",
          "plot_bgcolor": "#E5ECF6",
          "polar": {
           "angularaxis": {
            "gridcolor": "white",
            "linecolor": "white",
            "ticks": ""
           },
           "bgcolor": "#E5ECF6",
           "radialaxis": {
            "gridcolor": "white",
            "linecolor": "white",
            "ticks": ""
           }
          },
          "scene": {
           "xaxis": {
            "backgroundcolor": "#E5ECF6",
            "gridcolor": "white",
            "gridwidth": 2,
            "linecolor": "white",
            "showbackground": true,
            "ticks": "",
            "zerolinecolor": "white"
           },
           "yaxis": {
            "backgroundcolor": "#E5ECF6",
            "gridcolor": "white",
            "gridwidth": 2,
            "linecolor": "white",
            "showbackground": true,
            "ticks": "",
            "zerolinecolor": "white"
           },
           "zaxis": {
            "backgroundcolor": "#E5ECF6",
            "gridcolor": "white",
            "gridwidth": 2,
            "linecolor": "white",
            "showbackground": true,
            "ticks": "",
            "zerolinecolor": "white"
           }
          },
          "shapedefaults": {
           "line": {
            "color": "#2a3f5f"
           }
          },
          "ternary": {
           "aaxis": {
            "gridcolor": "white",
            "linecolor": "white",
            "ticks": ""
           },
           "baxis": {
            "gridcolor": "white",
            "linecolor": "white",
            "ticks": ""
           },
           "bgcolor": "#E5ECF6",
           "caxis": {
            "gridcolor": "white",
            "linecolor": "white",
            "ticks": ""
           }
          },
          "title": {
           "x": 0.05
          },
          "xaxis": {
           "automargin": true,
           "gridcolor": "white",
           "linecolor": "white",
           "ticks": "",
           "title": {
            "standoff": 15
           },
           "zerolinecolor": "white",
           "zerolinewidth": 2
          },
          "yaxis": {
           "automargin": true,
           "gridcolor": "white",
           "linecolor": "white",
           "ticks": "",
           "title": {
            "standoff": 15
           },
           "zerolinecolor": "white",
           "zerolinewidth": 2
          }
         }
        },
        "title": {
         "text": "XGBoost Feature Importance"
        },
        "width": 800,
        "xaxis": {
         "showgrid": false,
         "showline": false,
         "ticklen": 5,
         "zeroline": false
        },
        "yaxis": {
         "gridwidth": 2,
         "showgrid": false,
         "ticklen": 5,
         "title": {
          "text": "Feature Importance"
         },
         "zeroline": false
        }
       }
      },
      "text/html": [
       "<div>                            <div id=\"7ac8c980-17cb-44ac-bbb1-85b71e41edbd\" class=\"plotly-graph-div\" style=\"height:525px; width:800px;\"></div>            <script type=\"text/javascript\">                require([\"plotly\"], function(Plotly) {                    window.PLOTLYENV=window.PLOTLYENV || {};                                    if (document.getElementById(\"7ac8c980-17cb-44ac-bbb1-85b71e41edbd\")) {                    Plotly.newPlot(                        \"7ac8c980-17cb-44ac-bbb1-85b71e41edbd\",                        [{\"marker\": {\"color\": [3884, 1386, 3488, 4477, 297, 1276, 81, 353, 401, 123, 245, 137, 18, 346, 62, 47, 50, 54], \"colorscale\": [[0.0, \"rgb(12,51,131)\"], [0.25, \"rgb(10,136,186)\"], [0.5, \"rgb(242,211,56)\"], [0.75, \"rgb(242,143,56)\"], [1.0, \"rgb(217,30,30)\"]], \"showscale\": true, \"size\": 13, \"sizemode\": \"diameter\", \"sizeref\": 1}, \"mode\": \"markers\", \"type\": \"scatter\", \"x\": [\"average_montly_hours\", \"satisfaction_level\", \"last_evaluation\", \"number_project\", \"time_spend_company\", \"salary_low\", \"department_sales\", \"salary_medium\", \"department_technical\", \"department_support\", \"Work_accident\", \"department_hr\", \"department_accounting\", \"department_RandD\", \"department_marketing\", \"department_product_mng\", \"department_management\", \"promotion_last_5years\"], \"y\": [3884, 1386, 3488, 4477, 297, 1276, 81, 353, 401, 123, 245, 137, 18, 346, 62, 47, 50, 54]}],                        {\"autosize\": true, \"hovermode\": \"closest\", \"showlegend\": false, \"template\": {\"data\": {\"bar\": [{\"error_x\": {\"color\": \"#2a3f5f\"}, \"error_y\": {\"color\": \"#2a3f5f\"}, \"marker\": {\"line\": {\"color\": \"#E5ECF6\", \"width\": 0.5}}, \"type\": \"bar\"}], \"barpolar\": [{\"marker\": {\"line\": {\"color\": \"#E5ECF6\", \"width\": 0.5}}, \"type\": \"barpolar\"}], \"carpet\": [{\"aaxis\": {\"endlinecolor\": \"#2a3f5f\", \"gridcolor\": \"white\", \"linecolor\": \"white\", \"minorgridcolor\": \"white\", \"startlinecolor\": \"#2a3f5f\"}, \"baxis\": {\"endlinecolor\": \"#2a3f5f\", \"gridcolor\": \"white\", \"linecolor\": \"white\", \"minorgridcolor\": \"white\", \"startlinecolor\": \"#2a3f5f\"}, \"type\": \"carpet\"}], \"choropleth\": [{\"colorbar\": {\"outlinewidth\": 0, \"ticks\": \"\"}, \"type\": \"choropleth\"}], \"contour\": [{\"colorbar\": {\"outlinewidth\": 0, \"ticks\": \"\"}, \"colorscale\": [[0.0, \"#0d0887\"], [0.1111111111111111, \"#46039f\"], [0.2222222222222222, \"#7201a8\"], [0.3333333333333333, \"#9c179e\"], [0.4444444444444444, \"#bd3786\"], [0.5555555555555556, \"#d8576b\"], [0.6666666666666666, \"#ed7953\"], [0.7777777777777778, \"#fb9f3a\"], [0.8888888888888888, \"#fdca26\"], [1.0, \"#f0f921\"]], \"type\": \"contour\"}], \"contourcarpet\": [{\"colorbar\": {\"outlinewidth\": 0, \"ticks\": \"\"}, \"type\": \"contourcarpet\"}], \"heatmap\": [{\"colorbar\": {\"outlinewidth\": 0, \"ticks\": \"\"}, \"colorscale\": [[0.0, \"#0d0887\"], [0.1111111111111111, \"#46039f\"], [0.2222222222222222, \"#7201a8\"], [0.3333333333333333, \"#9c179e\"], [0.4444444444444444, \"#bd3786\"], [0.5555555555555556, \"#d8576b\"], [0.6666666666666666, \"#ed7953\"], [0.7777777777777778, \"#fb9f3a\"], [0.8888888888888888, \"#fdca26\"], [1.0, \"#f0f921\"]], \"type\": \"heatmap\"}], \"heatmapgl\": [{\"colorbar\": {\"outlinewidth\": 0, \"ticks\": \"\"}, \"colorscale\": [[0.0, \"#0d0887\"], [0.1111111111111111, \"#46039f\"], [0.2222222222222222, \"#7201a8\"], [0.3333333333333333, \"#9c179e\"], [0.4444444444444444, \"#bd3786\"], [0.5555555555555556, \"#d8576b\"], [0.6666666666666666, \"#ed7953\"], [0.7777777777777778, \"#fb9f3a\"], [0.8888888888888888, \"#fdca26\"], [1.0, \"#f0f921\"]], \"type\": \"heatmapgl\"}], \"histogram\": [{\"marker\": {\"colorbar\": {\"outlinewidth\": 0, \"ticks\": \"\"}}, \"type\": \"histogram\"}], \"histogram2d\": [{\"colorbar\": {\"outlinewidth\": 0, \"ticks\": \"\"}, \"colorscale\": [[0.0, \"#0d0887\"], [0.1111111111111111, \"#46039f\"], [0.2222222222222222, \"#7201a8\"], [0.3333333333333333, \"#9c179e\"], [0.4444444444444444, \"#bd3786\"], [0.5555555555555556, \"#d8576b\"], [0.6666666666666666, \"#ed7953\"], [0.7777777777777778, \"#fb9f3a\"], [0.8888888888888888, \"#fdca26\"], [1.0, \"#f0f921\"]], \"type\": \"histogram2d\"}], \"histogram2dcontour\": [{\"colorbar\": {\"outlinewidth\": 0, \"ticks\": \"\"}, \"colorscale\": [[0.0, \"#0d0887\"], [0.1111111111111111, \"#46039f\"], [0.2222222222222222, \"#7201a8\"], [0.3333333333333333, \"#9c179e\"], [0.4444444444444444, \"#bd3786\"], [0.5555555555555556, \"#d8576b\"], [0.6666666666666666, \"#ed7953\"], [0.7777777777777778, \"#fb9f3a\"], [0.8888888888888888, \"#fdca26\"], [1.0, \"#f0f921\"]], \"type\": \"histogram2dcontour\"}], \"mesh3d\": [{\"colorbar\": {\"outlinewidth\": 0, \"ticks\": \"\"}, \"type\": \"mesh3d\"}], \"parcoords\": [{\"line\": {\"colorbar\": {\"outlinewidth\": 0, \"ticks\": \"\"}}, \"type\": \"parcoords\"}], \"pie\": [{\"automargin\": true, \"type\": \"pie\"}], \"scatter\": [{\"marker\": {\"colorbar\": {\"outlinewidth\": 0, \"ticks\": \"\"}}, \"type\": \"scatter\"}], \"scatter3d\": [{\"line\": {\"colorbar\": {\"outlinewidth\": 0, \"ticks\": \"\"}}, \"marker\": {\"colorbar\": {\"outlinewidth\": 0, \"ticks\": \"\"}}, \"type\": \"scatter3d\"}], \"scattercarpet\": [{\"marker\": {\"colorbar\": {\"outlinewidth\": 0, \"ticks\": \"\"}}, \"type\": \"scattercarpet\"}], \"scattergeo\": [{\"marker\": {\"colorbar\": {\"outlinewidth\": 0, \"ticks\": \"\"}}, \"type\": \"scattergeo\"}], \"scattergl\": [{\"marker\": {\"colorbar\": {\"outlinewidth\": 0, \"ticks\": \"\"}}, \"type\": \"scattergl\"}], \"scattermapbox\": [{\"marker\": {\"colorbar\": {\"outlinewidth\": 0, \"ticks\": \"\"}}, \"type\": \"scattermapbox\"}], \"scatterpolar\": [{\"marker\": {\"colorbar\": {\"outlinewidth\": 0, \"ticks\": \"\"}}, \"type\": \"scatterpolar\"}], \"scatterpolargl\": [{\"marker\": {\"colorbar\": {\"outlinewidth\": 0, \"ticks\": \"\"}}, \"type\": \"scatterpolargl\"}], \"scatterternary\": [{\"marker\": {\"colorbar\": {\"outlinewidth\": 0, \"ticks\": \"\"}}, \"type\": \"scatterternary\"}], \"surface\": [{\"colorbar\": {\"outlinewidth\": 0, \"ticks\": \"\"}, \"colorscale\": [[0.0, \"#0d0887\"], [0.1111111111111111, \"#46039f\"], [0.2222222222222222, \"#7201a8\"], [0.3333333333333333, \"#9c179e\"], [0.4444444444444444, \"#bd3786\"], [0.5555555555555556, \"#d8576b\"], [0.6666666666666666, \"#ed7953\"], [0.7777777777777778, \"#fb9f3a\"], [0.8888888888888888, \"#fdca26\"], [1.0, \"#f0f921\"]], \"type\": \"surface\"}], \"table\": [{\"cells\": {\"fill\": {\"color\": \"#EBF0F8\"}, \"line\": {\"color\": \"white\"}}, \"header\": {\"fill\": {\"color\": \"#C8D4E3\"}, \"line\": {\"color\": \"white\"}}, \"type\": \"table\"}]}, \"layout\": {\"annotationdefaults\": {\"arrowcolor\": \"#2a3f5f\", \"arrowhead\": 0, \"arrowwidth\": 1}, \"autotypenumbers\": \"strict\", \"coloraxis\": {\"colorbar\": {\"outlinewidth\": 0, \"ticks\": \"\"}}, \"colorscale\": {\"diverging\": [[0, \"#8e0152\"], [0.1, \"#c51b7d\"], [0.2, \"#de77ae\"], [0.3, \"#f1b6da\"], [0.4, \"#fde0ef\"], [0.5, \"#f7f7f7\"], [0.6, \"#e6f5d0\"], [0.7, \"#b8e186\"], [0.8, \"#7fbc41\"], [0.9, \"#4d9221\"], [1, \"#276419\"]], \"sequential\": [[0.0, \"#0d0887\"], [0.1111111111111111, \"#46039f\"], [0.2222222222222222, \"#7201a8\"], [0.3333333333333333, \"#9c179e\"], [0.4444444444444444, \"#bd3786\"], [0.5555555555555556, \"#d8576b\"], [0.6666666666666666, \"#ed7953\"], [0.7777777777777778, \"#fb9f3a\"], [0.8888888888888888, \"#fdca26\"], [1.0, \"#f0f921\"]], \"sequentialminus\": [[0.0, \"#0d0887\"], [0.1111111111111111, \"#46039f\"], [0.2222222222222222, \"#7201a8\"], [0.3333333333333333, \"#9c179e\"], [0.4444444444444444, \"#bd3786\"], [0.5555555555555556, \"#d8576b\"], [0.6666666666666666, \"#ed7953\"], [0.7777777777777778, \"#fb9f3a\"], [0.8888888888888888, \"#fdca26\"], [1.0, \"#f0f921\"]]}, \"colorway\": [\"#636efa\", \"#EF553B\", \"#00cc96\", \"#ab63fa\", \"#FFA15A\", \"#19d3f3\", \"#FF6692\", \"#B6E880\", \"#FF97FF\", \"#FECB52\"], \"font\": {\"color\": \"#2a3f5f\"}, \"geo\": {\"bgcolor\": \"white\", \"lakecolor\": \"white\", \"landcolor\": \"#E5ECF6\", \"showlakes\": true, \"showland\": true, \"subunitcolor\": \"white\"}, \"hoverlabel\": {\"align\": \"left\"}, \"hovermode\": \"closest\", \"mapbox\": {\"style\": \"light\"}, \"paper_bgcolor\": \"white\", \"plot_bgcolor\": \"#E5ECF6\", \"polar\": {\"angularaxis\": {\"gridcolor\": \"white\", \"linecolor\": \"white\", \"ticks\": \"\"}, \"bgcolor\": \"#E5ECF6\", \"radialaxis\": {\"gridcolor\": \"white\", \"linecolor\": \"white\", \"ticks\": \"\"}}, \"scene\": {\"xaxis\": {\"backgroundcolor\": \"#E5ECF6\", \"gridcolor\": \"white\", \"gridwidth\": 2, \"linecolor\": \"white\", \"showbackground\": true, \"ticks\": \"\", \"zerolinecolor\": \"white\"}, \"yaxis\": {\"backgroundcolor\": \"#E5ECF6\", \"gridcolor\": \"white\", \"gridwidth\": 2, \"linecolor\": \"white\", \"showbackground\": true, \"ticks\": \"\", \"zerolinecolor\": \"white\"}, \"zaxis\": {\"backgroundcolor\": \"#E5ECF6\", \"gridcolor\": \"white\", \"gridwidth\": 2, \"linecolor\": \"white\", \"showbackground\": true, \"ticks\": \"\", \"zerolinecolor\": \"white\"}}, \"shapedefaults\": {\"line\": {\"color\": \"#2a3f5f\"}}, \"ternary\": {\"aaxis\": {\"gridcolor\": \"white\", \"linecolor\": \"white\", \"ticks\": \"\"}, \"baxis\": {\"gridcolor\": \"white\", \"linecolor\": \"white\", \"ticks\": \"\"}, \"bgcolor\": \"#E5ECF6\", \"caxis\": {\"gridcolor\": \"white\", \"linecolor\": \"white\", \"ticks\": \"\"}}, \"title\": {\"x\": 0.05}, \"xaxis\": {\"automargin\": true, \"gridcolor\": \"white\", \"linecolor\": \"white\", \"ticks\": \"\", \"title\": {\"standoff\": 15}, \"zerolinecolor\": \"white\", \"zerolinewidth\": 2}, \"yaxis\": {\"automargin\": true, \"gridcolor\": \"white\", \"linecolor\": \"white\", \"ticks\": \"\", \"title\": {\"standoff\": 15}, \"zerolinecolor\": \"white\", \"zerolinewidth\": 2}}}, \"title\": {\"text\": \"XGBoost Feature Importance\"}, \"width\": 800, \"xaxis\": {\"showgrid\": false, \"showline\": false, \"ticklen\": 5, \"zeroline\": false}, \"yaxis\": {\"gridwidth\": 2, \"showgrid\": false, \"ticklen\": 5, \"title\": {\"text\": \"Feature Importance\"}, \"zeroline\": false}},                        {\"responsive\": true}                    ).then(function(){\n",
       "                            \n",
       "var gd = document.getElementById('7ac8c980-17cb-44ac-bbb1-85b71e41edbd');\n",
       "var x = new MutationObserver(function (mutations, observer) {{\n",
       "        var display = window.getComputedStyle(gd).display;\n",
       "        if (!display || display === 'none') {{\n",
       "            console.log([gd, 'removed!']);\n",
       "            Plotly.purge(gd);\n",
       "            observer.disconnect();\n",
       "        }}\n",
       "}});\n",
       "\n",
       "// Listen for the removal of the full notebook cells\n",
       "var notebookContainer = gd.closest('#notebook-container');\n",
       "if (notebookContainer) {{\n",
       "    x.observe(notebookContainer, {childList: true});\n",
       "}}\n",
       "\n",
       "// Listen for the clearing of the current output cell\n",
       "var outputEl = gd.closest('.output');\n",
       "if (outputEl) {{\n",
       "    x.observe(outputEl, {childList: true});\n",
       "}}\n",
       "\n",
       "                        })                };                });            </script>        </div>"
      ]
     },
     "metadata": {},
     "output_type": "display_data"
    }
   ],
   "source": [
    "# Scatter plot \n",
    "trace = go.Scatter(\n",
    "    y = list(xgb.get_booster().get_score(importance_type=\"weight\").values()),                     # BROKEN xgb.feature_importances_,\n",
    "    x = features_by_importance,\n",
    "    mode='markers',\n",
    "    marker=dict(\n",
    "        sizemode = 'diameter',\n",
    "        sizeref = 1,\n",
    "        size = 13,\n",
    "        #size= rf.feature_importances_,\n",
    "        #color = np.random.randn(500), #set color equal to a variable\n",
    "        color = list(xgb.get_booster().get_score(importance_type=\"weight\").values()),      # BROKEN  xgb.feature_importances_,\n",
    "        colorscale='Portland',\n",
    "        showscale=True\n",
    "    ),\n",
    "    #text = x.columns.values\n",
    ")\n",
    "data = [trace]\n",
    "\n",
    "layout= go.Layout(\n",
    "    autosize= True,\n",
    "    title= 'XGBoost Feature Importance',\n",
    "    hovermode= 'closest',\n",
    "     xaxis= dict(\n",
    "         ticklen= 5,\n",
    "         showgrid=False,\n",
    "        zeroline=False,\n",
    "        showline=False\n",
    "     ),\n",
    "    yaxis=dict(\n",
    "        title= 'Feature Importance',\n",
    "        showgrid=False,\n",
    "        zeroline=False,\n",
    "        ticklen= 5,\n",
    "        gridwidth= 2\n",
    "    ),\n",
    "    width=800,\n",
    "    showlegend= False\n",
    ")\n",
    "fig = go.Figure(data=data, layout=layout)\n",
    "#fig.show()\n",
    "py.iplot(fig,filename='scatterHR')"
   ]
  },
  {
   "cell_type": "markdown",
   "id": "ce4b93b2",
   "metadata": {},
   "source": [
    "# WRAP UP"
   ]
  },
  {
   "cell_type": "markdown",
   "id": "777199f8",
   "metadata": {},
   "source": [
    "## Voting Classifier"
   ]
  },
  {
   "cell_type": "code",
   "execution_count": 548,
   "id": "824d2b7f",
   "metadata": {},
   "outputs": [
    {
     "name": "stdout",
     "output_type": "stream",
     "text": [
      "[10:48:44] WARNING: D:\\bld\\xgboost-split_1631904903843\\work\\src\\learner.cc:1095: Starting in XGBoost 1.3.0, the default evaluation metric used with the objective 'binary:logistic' was changed from 'error' to 'logloss'. Explicitly set eval_metric if you'd like to restore the old behavior.\n",
      "score on test: 0.9917333333333334\n",
      "score on train: 1.0\n"
     ]
    }
   ],
   "source": [
    "from sklearn.ensemble import VotingClassifier\n",
    "# 1) xg boost = xgb\n",
    "# 2) bagging classifier = bg\n",
    "# 3) Gradient Boosting = xg\n",
    "# 4) Decision Tree = clf\n",
    "evc = VotingClassifier(estimators=[('DecisionTree',clf),('gradient boosting',xg),('XGBoost',xgb)],voting='hard')\n",
    "evc.fit(x_train_normalized, y_train)\n",
    "print(\"score on test: \" + str(evc.score(x_test_normalized, y_test)))\n",
    "print(\"score on train: \"+ str(evc.score(x_train_normalized, y_train)))"
   ]
  },
  {
   "cell_type": "code",
   "execution_count": 549,
   "id": "18e2f8d0",
   "metadata": {},
   "outputs": [
    {
     "name": "stdout",
     "output_type": "stream",
     "text": [
      "Accuracy 99.17%\n",
      "\n",
      "              precision    recall  f1-score   support\n",
      "\n",
      "           0       0.99      1.00      0.99      2881\n",
      "           1       0.99      0.98      0.98       869\n",
      "\n",
      "    accuracy                           0.99      3750\n",
      "   macro avg       0.99      0.99      0.99      3750\n",
      "weighted avg       0.99      0.99      0.99      3750\n",
      "\n"
     ]
    },
    {
     "data": {
      "image/png": "[encoded data removed]",
      "text/plain": [
       "<Figure size 288x216 with 2 Axes>"
      ]
     },
     "metadata": {},
     "output_type": "display_data"
    }
   ],
   "source": [
    "predictions = evc.predict(x_test_normalized)\n",
    "\n",
    "print(\"Accuracy {0:.2f}%\".format(100*accuracy_score(predictions, y_test)))\n",
    "print()\n",
    "cm = confusion_matrix(y_true = y_test, y_pred = predictions, labels=[0, 1])\n",
    "display_confusion_matrix(cm)\n",
    "print(classification_report(y_test, predictions))"
   ]
  },
  {
   "attachments": {
    "image.png": {
     "image/png": "[encoded data removed]"
    }
   },
   "cell_type": "markdown",
   "id": "f0ba7ef3",
   "metadata": {},
   "source": [
    "### Simulation\n",
    "- Let's take an average profile\n",
    "![image.png](attachment:image.png)"
   ]
  },
  {
   "cell_type": "code",
   "execution_count": 626,
   "id": "5f2ffcb0",
   "metadata": {},
   "outputs": [
    {
     "name": "stdout",
     "output_type": "stream",
     "text": [
      "Index(['number_project', 'average_montly_hours', 'time_spend_company',\n",
      "       'Work_accident', 'promotion_last_5years', 'satisfaction_level',\n",
      "       'last_evaluation', 'department_RandD', 'department_accounting',\n",
      "       'department_hr', 'department_management', 'department_marketing',\n",
      "       'department_product_mng', 'department_sales', 'department_support',\n",
      "       'department_technical', 'salary_low', 'salary_medium'],\n",
      "      dtype='object')\n"
     ]
    }
   ],
   "source": [
    "print(x.columns)\n",
    "JohnDoe = [4, 201, 3.5, 0, 0, 0.6, 0.7, 0,0,0,0,0,0,1,0,0,1,0 ]\n",
    "assert len(JohnDoe) == len(x.columns)"
   ]
  },
  {
   "cell_type": "code",
   "execution_count": 627,
   "id": "7779e0d9",
   "metadata": {},
   "outputs": [
    {
     "data": {
      "text/html": [
       "<div>\n",
       "<style scoped>\n",
       "    .dataframe tbody tr th:only-of-type {\n",
       "        vertical-align: middle;\n",
       "    }\n",
       "\n",
       "    .dataframe tbody tr th {\n",
       "        vertical-align: top;\n",
       "    }\n",
       "\n",
       "    .dataframe thead th {\n",
       "        text-align: right;\n",
       "    }\n",
       "</style>\n",
       "<table border=\"1\" class=\"dataframe\">\n",
       "  <thead>\n",
       "    <tr style=\"text-align: right;\">\n",
       "      <th></th>\n",
       "      <th>number_project</th>\n",
       "      <th>average_montly_hours</th>\n",
       "      <th>time_spend_company</th>\n",
       "      <th>Work_accident</th>\n",
       "      <th>promotion_last_5years</th>\n",
       "      <th>satisfaction_level</th>\n",
       "      <th>last_evaluation</th>\n",
       "      <th>department_RandD</th>\n",
       "      <th>department_accounting</th>\n",
       "      <th>department_hr</th>\n",
       "      <th>department_management</th>\n",
       "      <th>department_marketing</th>\n",
       "      <th>department_product_mng</th>\n",
       "      <th>department_sales</th>\n",
       "      <th>department_support</th>\n",
       "      <th>department_technical</th>\n",
       "      <th>salary_low</th>\n",
       "      <th>salary_medium</th>\n",
       "    </tr>\n",
       "  </thead>\n",
       "  <tbody>\n",
       "    <tr>\n",
       "      <th>0</th>\n",
       "      <td>4</td>\n",
       "      <td>201</td>\n",
       "      <td>3.5</td>\n",
       "      <td>0</td>\n",
       "      <td>0</td>\n",
       "      <td>0.6</td>\n",
       "      <td>0.7</td>\n",
       "      <td>0</td>\n",
       "      <td>0</td>\n",
       "      <td>0</td>\n",
       "      <td>0</td>\n",
       "      <td>0</td>\n",
       "      <td>0</td>\n",
       "      <td>1</td>\n",
       "      <td>0</td>\n",
       "      <td>0</td>\n",
       "      <td>1</td>\n",
       "      <td>0</td>\n",
       "    </tr>\n",
       "  </tbody>\n",
       "</table>\n",
       "</div>"
      ],
      "text/plain": [
       "   number_project  average_montly_hours  time_spend_company  Work_accident  \\\n",
       "0               4                   201                 3.5              0   \n",
       "\n",
       "   promotion_last_5years  satisfaction_level  last_evaluation  \\\n",
       "0                      0                 0.6              0.7   \n",
       "\n",
       "   department_RandD  department_accounting  department_hr  \\\n",
       "0                 0                      0              0   \n",
       "\n",
       "   department_management  department_marketing  department_product_mng  \\\n",
       "0                      0                     0                       0   \n",
       "\n",
       "   department_sales  department_support  department_technical  salary_low  \\\n",
       "0                 1                   0                     0           1   \n",
       "\n",
       "   salary_medium  \n",
       "0              0  "
      ]
     },
     "execution_count": 627,
     "metadata": {},
     "output_type": "execute_result"
    }
   ],
   "source": [
    "JohnDoe = pd.DataFrame.from_dict(data={feat:[score] for feat, score in zip(x.columns, JohnDoe)})\n",
    "JohnDoe"
   ]
  },
  {
   "cell_type": "code",
   "execution_count": 628,
   "id": "1d04a511",
   "metadata": {},
   "outputs": [
    {
     "name": "stdout",
     "output_type": "stream",
     "text": [
      "stayer\n"
     ]
    }
   ],
   "source": [
    "if evc.predict(sc.transform(JohnDoe)).item():\n",
    "    print('leaver')\n",
    "else:\n",
    "    print('stayer')"
   ]
  },
  {
   "cell_type": "markdown",
   "id": "383e06dc",
   "metadata": {},
   "source": [
    "- Let's take a strong performer with high workload"
   ]
  },
  {
   "cell_type": "code",
   "execution_count": 625,
   "id": "608b4f96",
   "metadata": {},
   "outputs": [
    {
     "name": "stdout",
     "output_type": "stream",
     "text": [
      "stayer\n"
     ]
    }
   ],
   "source": [
    "JohnDoe = [5, 245, 2, 0, 0, 0.82, 0.87, 0,0,0,0,0,0,1,0,0,1,0 ]\n",
    "JohnDoe = pd.DataFrame.from_dict(data={feat:[score] for feat, score in zip(x.columns, JohnDoe)})\n",
    "if evc.predict(sc.transform(JohnDoe)).item():\n",
    "    print('leaver')\n",
    "else:\n",
    "    print('stayer')"
   ]
  },
  {
   "attachments": {},
   "cell_type": "markdown",
   "id": "f9b74b51",
   "metadata": {},
   "source": [
    "- Let's decrease a bit the satisfaction level and increase workload"
   ]
  },
  {
   "cell_type": "code",
   "execution_count": 624,
   "id": "c521f4a0",
   "metadata": {},
   "outputs": [
    {
     "name": "stdout",
     "output_type": "stream",
     "text": [
      "leaver\n"
     ]
    }
   ],
   "source": [
    "JohnDoe = [7, 262, 2, 0, 0, 0.41, 0.87, 0,0,0,0,0,0,1,0,0,1,0 ]\n",
    "JohnDoe = pd.DataFrame.from_dict(data={feat:[score] for feat, score in zip(x.columns, JohnDoe)})\n",
    "if evc.predict(sc.transform(JohnDoe)).item():\n",
    "    print('leaver')\n",
    "else:\n",
    "    print('stayer')"
   ]
  },
  {
   "cell_type": "code",
   "execution_count": 606,
   "id": "33247f82",
   "metadata": {},
   "outputs": [
    {
     "data": {
      "text/html": [
       "<div>\n",
       "<style scoped>\n",
       "    .dataframe tbody tr th:only-of-type {\n",
       "        vertical-align: middle;\n",
       "    }\n",
       "\n",
       "    .dataframe tbody tr th {\n",
       "        vertical-align: top;\n",
       "    }\n",
       "\n",
       "    .dataframe thead th {\n",
       "        text-align: right;\n",
       "    }\n",
       "</style>\n",
       "<table border=\"1\" class=\"dataframe\">\n",
       "  <thead>\n",
       "    <tr style=\"text-align: right;\">\n",
       "      <th></th>\n",
       "      <th>number_project</th>\n",
       "      <th>average_montly_hours</th>\n",
       "      <th>time_spend_company</th>\n",
       "      <th>Work_accident</th>\n",
       "      <th>left</th>\n",
       "      <th>promotion_last_5years</th>\n",
       "      <th>satisfaction_level</th>\n",
       "      <th>last_evaluation</th>\n",
       "    </tr>\n",
       "  </thead>\n",
       "  <tbody>\n",
       "    <tr>\n",
       "      <th>count</th>\n",
       "      <td>3571.000000</td>\n",
       "      <td>3571.000000</td>\n",
       "      <td>3571.000000</td>\n",
       "      <td>3571.000000</td>\n",
       "      <td>3571.0</td>\n",
       "      <td>3571.000000</td>\n",
       "      <td>3571.000000</td>\n",
       "      <td>3571.000000</td>\n",
       "    </tr>\n",
       "    <tr>\n",
       "      <th>mean</th>\n",
       "      <td>3.855503</td>\n",
       "      <td>207.419210</td>\n",
       "      <td>3.876505</td>\n",
       "      <td>0.047326</td>\n",
       "      <td>1.0</td>\n",
       "      <td>0.005321</td>\n",
       "      <td>0.440234</td>\n",
       "      <td>0.718228</td>\n",
       "    </tr>\n",
       "    <tr>\n",
       "      <th>std</th>\n",
       "      <td>1.818165</td>\n",
       "      <td>61.202825</td>\n",
       "      <td>0.977698</td>\n",
       "      <td>0.212364</td>\n",
       "      <td>0.0</td>\n",
       "      <td>0.072759</td>\n",
       "      <td>0.263588</td>\n",
       "      <td>0.197256</td>\n",
       "    </tr>\n",
       "    <tr>\n",
       "      <th>min</th>\n",
       "      <td>2.000000</td>\n",
       "      <td>126.000000</td>\n",
       "      <td>2.000000</td>\n",
       "      <td>0.000000</td>\n",
       "      <td>1.0</td>\n",
       "      <td>0.000000</td>\n",
       "      <td>0.090000</td>\n",
       "      <td>0.450000</td>\n",
       "    </tr>\n",
       "    <tr>\n",
       "      <th>25%</th>\n",
       "      <td>2.000000</td>\n",
       "      <td>146.000000</td>\n",
       "      <td>3.000000</td>\n",
       "      <td>0.000000</td>\n",
       "      <td>1.0</td>\n",
       "      <td>0.000000</td>\n",
       "      <td>0.130000</td>\n",
       "      <td>0.520000</td>\n",
       "    </tr>\n",
       "    <tr>\n",
       "      <th>50%</th>\n",
       "      <td>4.000000</td>\n",
       "      <td>224.000000</td>\n",
       "      <td>4.000000</td>\n",
       "      <td>0.000000</td>\n",
       "      <td>1.0</td>\n",
       "      <td>0.000000</td>\n",
       "      <td>0.410000</td>\n",
       "      <td>0.780000</td>\n",
       "    </tr>\n",
       "    <tr>\n",
       "      <th>75%</th>\n",
       "      <td>6.000000</td>\n",
       "      <td>262.000000</td>\n",
       "      <td>5.000000</td>\n",
       "      <td>0.000000</td>\n",
       "      <td>1.0</td>\n",
       "      <td>0.000000</td>\n",
       "      <td>0.725000</td>\n",
       "      <td>0.900000</td>\n",
       "    </tr>\n",
       "    <tr>\n",
       "      <th>max</th>\n",
       "      <td>7.000000</td>\n",
       "      <td>310.000000</td>\n",
       "      <td>6.000000</td>\n",
       "      <td>1.000000</td>\n",
       "      <td>1.0</td>\n",
       "      <td>1.000000</td>\n",
       "      <td>0.920000</td>\n",
       "      <td>1.000000</td>\n",
       "    </tr>\n",
       "  </tbody>\n",
       "</table>\n",
       "</div>"
      ],
      "text/plain": [
       "       number_project  average_montly_hours  time_spend_company  \\\n",
       "count     3571.000000           3571.000000         3571.000000   \n",
       "mean         3.855503            207.419210            3.876505   \n",
       "std          1.818165             61.202825            0.977698   \n",
       "min          2.000000            126.000000            2.000000   \n",
       "25%          2.000000            146.000000            3.000000   \n",
       "50%          4.000000            224.000000            4.000000   \n",
       "75%          6.000000            262.000000            5.000000   \n",
       "max          7.000000            310.000000            6.000000   \n",
       "\n",
       "       Work_accident    left  promotion_last_5years  satisfaction_level  \\\n",
       "count    3571.000000  3571.0            3571.000000         3571.000000   \n",
       "mean        0.047326     1.0               0.005321            0.440234   \n",
       "std         0.212364     0.0               0.072759            0.263588   \n",
       "min         0.000000     1.0               0.000000            0.090000   \n",
       "25%         0.000000     1.0               0.000000            0.130000   \n",
       "50%         0.000000     1.0               0.000000            0.410000   \n",
       "75%         0.000000     1.0               0.000000            0.725000   \n",
       "max         1.000000     1.0               1.000000            0.920000   \n",
       "\n",
       "       last_evaluation  \n",
       "count      3571.000000  \n",
       "mean          0.718228  \n",
       "std           0.197256  \n",
       "min           0.450000  \n",
       "25%           0.520000  \n",
       "50%           0.780000  \n",
       "75%           0.900000  \n",
       "max           1.000000  "
      ]
     },
     "execution_count": 606,
     "metadata": {},
     "output_type": "execute_result"
    }
   ],
   "source": [
    "df[df.left==1].describe()"
   ]
  },
  {
   "cell_type": "code",
   "execution_count": null,
   "id": "05e1106d",
   "metadata": {},
   "outputs": [],
   "source": []
  }
 ],
 "metadata": {
  "kernelspec": {
   "display_name": "dash_py37",
   "language": "python",
   "name": "dash_py37"
  },
  "language_info": {
   "codemirror_mode": {
    "name": "ipython",
    "version": 3
   },
   "file_extension": ".py",
   "mimetype": "text/x-python",
   "name": "python",
   "nbconvert_exporter": "python",
   "pygments_lexer": "ipython3",
   "version": "3.7.10"
  }
 },
 "nbformat": 4,
 "nbformat_minor": 5
}
